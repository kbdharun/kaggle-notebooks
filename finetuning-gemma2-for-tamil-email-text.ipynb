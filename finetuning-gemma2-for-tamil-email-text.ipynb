{
 "cells": [
  {
   "cell_type": "markdown",
   "id": "a7be5fd9",
   "metadata": {
    "papermill": {
     "duration": 0.004957,
     "end_time": "2024-11-11T05:37:05.425745",
     "exception": false,
     "start_time": "2024-11-11T05:37:05.420788",
     "status": "completed"
    },
    "tags": []
   },
   "source": [
    "# Finetuning Gemma2 for Tamil Texts"
   ]
  },
  {
   "cell_type": "code",
   "execution_count": 1,
   "id": "84754236",
   "metadata": {
    "execution": {
     "iopub.execute_input": "2024-11-11T05:37:05.436062Z",
     "iopub.status.busy": "2024-11-11T05:37:05.435707Z",
     "iopub.status.idle": "2024-11-11T05:37:47.440893Z",
     "shell.execute_reply": "2024-11-11T05:37:47.440060Z"
    },
    "papermill": {
     "duration": 42.013045,
     "end_time": "2024-11-11T05:37:47.443405",
     "exception": false,
     "start_time": "2024-11-11T05:37:05.430360",
     "status": "completed"
    },
    "tags": []
   },
   "outputs": [],
   "source": [
    "# Install Keras 3 last. See https://keras.io/getting_started/ for more details.\n",
    "!pip install -q -U keras-nlp datasets\n",
    "!pip install -q -U keras\n",
    "\n",
    "import os\n",
    "\n",
    "# Set the backbend before importing Keras\n",
    "os.environ[\"KERAS_BACKEND\"] = \"jax\"\n",
    "# Avoid memory fragmentation on JAX backend.\n",
    "os.environ[\"XLA_PYTHON_CLIENT_MEM_FRACTION\"] = \"1.00\"\n",
    "\n",
    "import keras_nlp\n",
    "import keras\n",
    "\n",
    "# Run at half precision.\n",
    "#keras.config.set_floatx(\"bfloat16\")\n",
    "\n",
    "# Training Configurations\n",
    "token_limit = 256\n",
    "num_data_limit = 100\n",
    "lora_name = \"tamil_lora\"\n",
    "lora_rank = 4\n",
    "lr_value = 1e-4\n",
    "train_epoch = 20\n",
    "model_id = \"gemma2_instruct_2b_en\""
   ]
  },
  {
   "cell_type": "markdown",
   "id": "2bac0871",
   "metadata": {
    "papermill": {
     "duration": 0.004193,
     "end_time": "2024-11-11T05:37:47.452351",
     "exception": false,
     "start_time": "2024-11-11T05:37:47.448158",
     "status": "completed"
    },
    "tags": []
   },
   "source": [
    "# Load Model"
   ]
  },
  {
   "cell_type": "code",
   "execution_count": 2,
   "id": "cb9eb0e6",
   "metadata": {
    "execution": {
     "iopub.execute_input": "2024-11-11T05:37:47.462987Z",
     "iopub.status.busy": "2024-11-11T05:37:47.462172Z",
     "iopub.status.idle": "2024-11-11T05:38:44.423684Z",
     "shell.execute_reply": "2024-11-11T05:38:44.422526Z"
    },
    "papermill": {
     "duration": 56.969147,
     "end_time": "2024-11-11T05:38:44.425835",
     "exception": false,
     "start_time": "2024-11-11T05:37:47.456688",
     "status": "completed"
    },
    "tags": []
   },
   "outputs": [
    {
     "name": "stderr",
     "output_type": "stream",
     "text": [
      "normalizer.cc(51) LOG(INFO) precompiled_charsmap is empty. use identity normalization.\n"
     ]
    },
    {
     "data": {
      "text/html": [
       "<pre style=\"white-space:pre;overflow-x:auto;line-height:normal;font-family:Menlo,'DejaVu Sans Mono',consolas,'Courier New',monospace\"><span style=\"font-weight: bold\">Preprocessor: \"gemma_causal_lm_preprocessor\"</span>\n",
       "</pre>\n"
      ],
      "text/plain": [
       "\u001b[1mPreprocessor: \"gemma_causal_lm_preprocessor\"\u001b[0m\n"
      ]
     },
     "metadata": {},
     "output_type": "display_data"
    },
    {
     "data": {
      "text/html": [
       "<pre style=\"white-space:pre;overflow-x:auto;line-height:normal;font-family:Menlo,'DejaVu Sans Mono',consolas,'Courier New',monospace\">┏━━━━━━━━━━━━━━━━━━━━━━━━━━━━━━━━━━━━━━━━━━━━━━━━━━━━━━━━━━━━━━━┳━━━━━━━━━━━━━━━━━━━━━━━━━━━━━━━━━━━━━━━━━━┓\n",
       "┃<span style=\"font-weight: bold\"> Layer (type)                                                  </span>┃<span style=\"font-weight: bold\">                                   Config </span>┃\n",
       "┡━━━━━━━━━━━━━━━━━━━━━━━━━━━━━━━━━━━━━━━━━━━━━━━━━━━━━━━━━━━━━━━╇━━━━━━━━━━━━━━━━━━━━━━━━━━━━━━━━━━━━━━━━━━┩\n",
       "│ gemma_tokenizer (<span style=\"color: #0087ff; text-decoration-color: #0087ff\">GemmaTokenizer</span>)                              │                      Vocab size: <span style=\"color: #00af00; text-decoration-color: #00af00\">256,000</span> │\n",
       "└───────────────────────────────────────────────────────────────┴──────────────────────────────────────────┘\n",
       "</pre>\n"
      ],
      "text/plain": [
       "┏━━━━━━━━━━━━━━━━━━━━━━━━━━━━━━━━━━━━━━━━━━━━━━━━━━━━━━━━━━━━━━━┳━━━━━━━━━━━━━━━━━━━━━━━━━━━━━━━━━━━━━━━━━━┓\n",
       "┃\u001b[1m \u001b[0m\u001b[1mLayer (type)                                                 \u001b[0m\u001b[1m \u001b[0m┃\u001b[1m \u001b[0m\u001b[1m                                  Config\u001b[0m\u001b[1m \u001b[0m┃\n",
       "┡━━━━━━━━━━━━━━━━━━━━━━━━━━━━━━━━━━━━━━━━━━━━━━━━━━━━━━━━━━━━━━━╇━━━━━━━━━━━━━━━━━━━━━━━━━━━━━━━━━━━━━━━━━━┩\n",
       "│ gemma_tokenizer (\u001b[38;5;33mGemmaTokenizer\u001b[0m)                              │                      Vocab size: \u001b[38;5;34m256,000\u001b[0m │\n",
       "└───────────────────────────────────────────────────────────────┴──────────────────────────────────────────┘\n"
      ]
     },
     "metadata": {},
     "output_type": "display_data"
    },
    {
     "data": {
      "text/html": [
       "<pre style=\"white-space:pre;overflow-x:auto;line-height:normal;font-family:Menlo,'DejaVu Sans Mono',consolas,'Courier New',monospace\"><span style=\"font-weight: bold\">Model: \"gemma_causal_lm\"</span>\n",
       "</pre>\n"
      ],
      "text/plain": [
       "\u001b[1mModel: \"gemma_causal_lm\"\u001b[0m\n"
      ]
     },
     "metadata": {},
     "output_type": "display_data"
    },
    {
     "data": {
      "text/html": [
       "<pre style=\"white-space:pre;overflow-x:auto;line-height:normal;font-family:Menlo,'DejaVu Sans Mono',consolas,'Courier New',monospace\">┏━━━━━━━━━━━━━━━━━━━━━━━━━━━━━━━┳━━━━━━━━━━━━━━━━━━━━━━━━━━━┳━━━━━━━━━━━━━━━━━┳━━━━━━━━━━━━━━━━━━━━━━━━━━━━┓\n",
       "┃<span style=\"font-weight: bold\"> Layer (type)                  </span>┃<span style=\"font-weight: bold\"> Output Shape              </span>┃<span style=\"font-weight: bold\">         Param # </span>┃<span style=\"font-weight: bold\"> Connected to               </span>┃\n",
       "┡━━━━━━━━━━━━━━━━━━━━━━━━━━━━━━━╇━━━━━━━━━━━━━━━━━━━━━━━━━━━╇━━━━━━━━━━━━━━━━━╇━━━━━━━━━━━━━━━━━━━━━━━━━━━━┩\n",
       "│ padding_mask (<span style=\"color: #0087ff; text-decoration-color: #0087ff\">InputLayer</span>)     │ (<span style=\"color: #00d7ff; text-decoration-color: #00d7ff\">None</span>, <span style=\"color: #00d7ff; text-decoration-color: #00d7ff\">None</span>)              │               <span style=\"color: #00af00; text-decoration-color: #00af00\">0</span> │ -                          │\n",
       "├───────────────────────────────┼───────────────────────────┼─────────────────┼────────────────────────────┤\n",
       "│ token_ids (<span style=\"color: #0087ff; text-decoration-color: #0087ff\">InputLayer</span>)        │ (<span style=\"color: #00d7ff; text-decoration-color: #00d7ff\">None</span>, <span style=\"color: #00d7ff; text-decoration-color: #00d7ff\">None</span>)              │               <span style=\"color: #00af00; text-decoration-color: #00af00\">0</span> │ -                          │\n",
       "├───────────────────────────────┼───────────────────────────┼─────────────────┼────────────────────────────┤\n",
       "│ gemma_backbone                │ (<span style=\"color: #00d7ff; text-decoration-color: #00d7ff\">None</span>, <span style=\"color: #00d7ff; text-decoration-color: #00d7ff\">None</span>, <span style=\"color: #00af00; text-decoration-color: #00af00\">2304</span>)        │   <span style=\"color: #00af00; text-decoration-color: #00af00\">2,614,341,888</span> │ padding_mask[<span style=\"color: #00af00; text-decoration-color: #00af00\">0</span>][<span style=\"color: #00af00; text-decoration-color: #00af00\">0</span>],        │\n",
       "│ (<span style=\"color: #0087ff; text-decoration-color: #0087ff\">GemmaBackbone</span>)               │                           │                 │ token_ids[<span style=\"color: #00af00; text-decoration-color: #00af00\">0</span>][<span style=\"color: #00af00; text-decoration-color: #00af00\">0</span>]            │\n",
       "├───────────────────────────────┼───────────────────────────┼─────────────────┼────────────────────────────┤\n",
       "│ token_embedding               │ (<span style=\"color: #00d7ff; text-decoration-color: #00d7ff\">None</span>, <span style=\"color: #00d7ff; text-decoration-color: #00d7ff\">None</span>, <span style=\"color: #00af00; text-decoration-color: #00af00\">256000</span>)      │     <span style=\"color: #00af00; text-decoration-color: #00af00\">589,824,000</span> │ gemma_backbone[<span style=\"color: #00af00; text-decoration-color: #00af00\">0</span>][<span style=\"color: #00af00; text-decoration-color: #00af00\">0</span>]       │\n",
       "│ (<span style=\"color: #0087ff; text-decoration-color: #0087ff\">ReversibleEmbedding</span>)         │                           │                 │                            │\n",
       "└───────────────────────────────┴───────────────────────────┴─────────────────┴────────────────────────────┘\n",
       "</pre>\n"
      ],
      "text/plain": [
       "┏━━━━━━━━━━━━━━━━━━━━━━━━━━━━━━━┳━━━━━━━━━━━━━━━━━━━━━━━━━━━┳━━━━━━━━━━━━━━━━━┳━━━━━━━━━━━━━━━━━━━━━━━━━━━━┓\n",
       "┃\u001b[1m \u001b[0m\u001b[1mLayer (type)                 \u001b[0m\u001b[1m \u001b[0m┃\u001b[1m \u001b[0m\u001b[1mOutput Shape             \u001b[0m\u001b[1m \u001b[0m┃\u001b[1m \u001b[0m\u001b[1m        Param #\u001b[0m\u001b[1m \u001b[0m┃\u001b[1m \u001b[0m\u001b[1mConnected to              \u001b[0m\u001b[1m \u001b[0m┃\n",
       "┡━━━━━━━━━━━━━━━━━━━━━━━━━━━━━━━╇━━━━━━━━━━━━━━━━━━━━━━━━━━━╇━━━━━━━━━━━━━━━━━╇━━━━━━━━━━━━━━━━━━━━━━━━━━━━┩\n",
       "│ padding_mask (\u001b[38;5;33mInputLayer\u001b[0m)     │ (\u001b[38;5;45mNone\u001b[0m, \u001b[38;5;45mNone\u001b[0m)              │               \u001b[38;5;34m0\u001b[0m │ -                          │\n",
       "├───────────────────────────────┼───────────────────────────┼─────────────────┼────────────────────────────┤\n",
       "│ token_ids (\u001b[38;5;33mInputLayer\u001b[0m)        │ (\u001b[38;5;45mNone\u001b[0m, \u001b[38;5;45mNone\u001b[0m)              │               \u001b[38;5;34m0\u001b[0m │ -                          │\n",
       "├───────────────────────────────┼───────────────────────────┼─────────────────┼────────────────────────────┤\n",
       "│ gemma_backbone                │ (\u001b[38;5;45mNone\u001b[0m, \u001b[38;5;45mNone\u001b[0m, \u001b[38;5;34m2304\u001b[0m)        │   \u001b[38;5;34m2,614,341,888\u001b[0m │ padding_mask[\u001b[38;5;34m0\u001b[0m][\u001b[38;5;34m0\u001b[0m],        │\n",
       "│ (\u001b[38;5;33mGemmaBackbone\u001b[0m)               │                           │                 │ token_ids[\u001b[38;5;34m0\u001b[0m][\u001b[38;5;34m0\u001b[0m]            │\n",
       "├───────────────────────────────┼───────────────────────────┼─────────────────┼────────────────────────────┤\n",
       "│ token_embedding               │ (\u001b[38;5;45mNone\u001b[0m, \u001b[38;5;45mNone\u001b[0m, \u001b[38;5;34m256000\u001b[0m)      │     \u001b[38;5;34m589,824,000\u001b[0m │ gemma_backbone[\u001b[38;5;34m0\u001b[0m][\u001b[38;5;34m0\u001b[0m]       │\n",
       "│ (\u001b[38;5;33mReversibleEmbedding\u001b[0m)         │                           │                 │                            │\n",
       "└───────────────────────────────┴───────────────────────────┴─────────────────┴────────────────────────────┘\n"
      ]
     },
     "metadata": {},
     "output_type": "display_data"
    },
    {
     "data": {
      "text/html": [
       "<pre style=\"white-space:pre;overflow-x:auto;line-height:normal;font-family:Menlo,'DejaVu Sans Mono',consolas,'Courier New',monospace\"><span style=\"font-weight: bold\"> Total params: </span><span style=\"color: #00af00; text-decoration-color: #00af00\">2,614,341,888</span> (9.74 GB)\n",
       "</pre>\n"
      ],
      "text/plain": [
       "\u001b[1m Total params: \u001b[0m\u001b[38;5;34m2,614,341,888\u001b[0m (9.74 GB)\n"
      ]
     },
     "metadata": {},
     "output_type": "display_data"
    },
    {
     "data": {
      "text/html": [
       "<pre style=\"white-space:pre;overflow-x:auto;line-height:normal;font-family:Menlo,'DejaVu Sans Mono',consolas,'Courier New',monospace\"><span style=\"font-weight: bold\"> Trainable params: </span><span style=\"color: #00af00; text-decoration-color: #00af00\">2,614,341,888</span> (9.74 GB)\n",
       "</pre>\n"
      ],
      "text/plain": [
       "\u001b[1m Trainable params: \u001b[0m\u001b[38;5;34m2,614,341,888\u001b[0m (9.74 GB)\n"
      ]
     },
     "metadata": {},
     "output_type": "display_data"
    },
    {
     "data": {
      "text/html": [
       "<pre style=\"white-space:pre;overflow-x:auto;line-height:normal;font-family:Menlo,'DejaVu Sans Mono',consolas,'Courier New',monospace\"><span style=\"font-weight: bold\"> Non-trainable params: </span><span style=\"color: #00af00; text-decoration-color: #00af00\">0</span> (0.00 B)\n",
       "</pre>\n"
      ],
      "text/plain": [
       "\u001b[1m Non-trainable params: \u001b[0m\u001b[38;5;34m0\u001b[0m (0.00 B)\n"
      ]
     },
     "metadata": {},
     "output_type": "display_data"
    },
    {
     "name": "stdout",
     "output_type": "stream",
     "text": [
      "\n",
      "Gemma output:\n",
      "<start_of_turn>user\n",
      "தமிழில் ஒரு மின்னஞ்சல் பதிலை உருவாக்கவும்.<end_of_turn>\n",
      "<start_of_turn>model\n",
      "நீங்கள் எப்படி இருக்கிறீர்கள்? \n",
      "\n",
      "என்ன சொல்ல வேண்டும்? \n",
      "<end_of_turn>\n",
      "TOTAL TIME ELAPSED: 15.78s\n"
     ]
    }
   ],
   "source": [
    "import time\n",
    "\n",
    "gemma_lm = keras_nlp.models.GemmaCausalLM.from_preset(model_id)\n",
    "gemma_lm.summary()\n",
    "\n",
    "tick_start = 0\n",
    "\n",
    "def tick():\n",
    "    global tick_start\n",
    "    tick_start = time.time()\n",
    "\n",
    "def tock():\n",
    "    print(f\"TOTAL TIME ELAPSED: {time.time() - tick_start:.2f}s\")\n",
    "\n",
    "def text_gen(prompt):\n",
    "    tick()\n",
    "    input_text = f\"<start_of_turn>user\\n{prompt}<end_of_turn>\\n<start_of_turn>model\\n\"\n",
    "    output = gemma_lm.generate(input_text, max_length=token_limit)\n",
    "    print(\"\\nGemma output:\")\n",
    "    print(output)\n",
    "    tock()\n",
    "\n",
    "# inference before fine-tuning\n",
    "text_gen(\"தமிழில் ஒரு மின்னஞ்சல் பதிலை உருவாக்கவும்.\")"
   ]
  },
  {
   "cell_type": "markdown",
   "id": "fec8c041",
   "metadata": {
    "papermill": {
     "duration": 0.005547,
     "end_time": "2024-11-11T05:38:44.437489",
     "exception": false,
     "start_time": "2024-11-11T05:38:44.431942",
     "status": "completed"
    },
    "tags": []
   },
   "source": [
    "# Load Dataset"
   ]
  },
  {
   "cell_type": "code",
   "execution_count": 3,
   "id": "924261ba",
   "metadata": {
    "execution": {
     "iopub.execute_input": "2024-11-11T05:38:44.450439Z",
     "iopub.status.busy": "2024-11-11T05:38:44.450040Z",
     "iopub.status.idle": "2024-11-11T05:38:50.136960Z",
     "shell.execute_reply": "2024-11-11T05:38:50.135913Z"
    },
    "papermill": {
     "duration": 5.696299,
     "end_time": "2024-11-11T05:38:50.139368",
     "exception": false,
     "start_time": "2024-11-11T05:38:44.443069",
     "status": "completed"
    },
    "tags": []
   },
   "outputs": [
    {
     "data": {
      "application/vnd.jupyter.widget-view+json": {
       "model_id": "7542f613bbbc40f49e02a38c15fc30b3",
       "version_major": 2,
       "version_minor": 0
      },
      "text/plain": [
       "README.md:   0%|          | 0.00/2.52k [00:00<?, ?B/s]"
      ]
     },
     "metadata": {},
     "output_type": "display_data"
    },
    {
     "data": {
      "application/vnd.jupyter.widget-view+json": {
       "model_id": "d0b53eeeed76434eb872f339d2433012",
       "version_major": 2,
       "version_minor": 0
      },
      "text/plain": [
       "(…)-00000-of-00001-e96a6e4e7f400cce.parquet:   0%|          | 0.00/84.7M [00:00<?, ?B/s]"
      ]
     },
     "metadata": {},
     "output_type": "display_data"
    },
    {
     "data": {
      "application/vnd.jupyter.widget-view+json": {
       "model_id": "e8fe884d8f24493a89abc3222283c9f0",
       "version_major": 2,
       "version_minor": 0
      },
      "text/plain": [
       "Generating train split:   0%|          | 0/51876 [00:00<?, ? examples/s]"
      ]
     },
     "metadata": {},
     "output_type": "display_data"
    },
    {
     "name": "stdout",
     "output_type": "stream",
     "text": [
      "Dataset({\n",
      "    features: ['instruction', 'input', 'output', 'text', 'system_prompt'],\n",
      "    num_rows: 51876\n",
      "})\n",
      "100\n",
      "<start_of_turn>user\n",
      "\n",
      "<end_of_turn>\n",
      "<start_of_turn>model\n",
      "மூன்று முதன்மை நிறங்கள் சிவப்பு, நீலம் மற்றும் மஞ்சள். இந்த நிறங்கள் முதன்மை என்று அழைக்கப்படுகின்றன, ஏனெனில் அவை மற்ற வண்ணங்களை கலந்து உருவாக்க முடியாது மற்றும் மற்ற அனைத்து வண்ணங்களையும் பல்வேறு விகிதங்களில் இணைப்பதன் மூலம் உருவாக்க முடியும். ஒளிக்கு பயன்படுத்தப்படும் சேர்க்கை வண்ண அமைப்பில், முதன்மை நிறங்கள் சிவப்பு, பச்சை மற்றும் நீலம் (RGB).<end_of_turn>\n",
      "<start_of_turn>user\n",
      "\n",
      "<end_of_turn>\n",
      "<start_of_turn>model\n",
      "AI உதவியாளராக, எனக்கு என்னுடைய சொந்த அனுபவங்கள் அல்லது உடல் இருப்பு இல்லை. இருப்பினும், அல்காரிதம்கள், தர்க்கம் மற்றும் தரவு ஆகியவற்றின் அடிப்படையில் முடிவுகளை எடுக்க நான் திட்டமிடப்பட்டிருக்கிறேன். முரண்பட்ட தகவல் அல்லது பல சாத்தியமான முடிவுகள் இருப்பதால், முடிவெடுப்பது கடினமாக இருக்கும் சூழ்நிலையை நான் சந்திக்க நேரிடும். இதுபோன்ற சந்தர்ப்பங்களில், ஒவ்வொரு விருப்பத்தின் அபாயங்களையும் நன்மைகளையும் பகுப்பாய்வு செய்து எடைபோடுவதற்கான எனது திறனைப் பயன்படுத்துகிறேன், மேலும் விரும்பிய முடிவை அடையக்கூடிய ஒரு முடிவுக்கு வருகிறேன்.<end_of_turn>\n",
      "<start_of_turn>user\n",
      "ட்விட்டர், இன்ஸ்டாகிராம், டெலிகிராம்\n",
      "<end_of_turn>\n",
      "<start_of_turn>model\n",
      "வித்தியாசமான ஒன்று டெலிகிராம். ட்விட்டர் மற்றும் இன்ஸ்டாகிராம் ஆகியவை முக்கியமாக தகவல், படங்கள் மற்றும் வீடியோக்களைப் பகிர்வதற்கான சமூக ஊடக தளங்களாகும், அதே சமயம் டெலிகிராம் என்பது கிளவுட் அடிப்படையிலான உடனடி செய்தி மற்றும் வாய்ஸ்-ஓவர்-ஐபி சேவையாகும்.<end_of_turn>\n"
     ]
    }
   ],
   "source": [
    "from datasets import load_dataset\n",
    "\n",
    "# Load the Tamil Alpaca dataset\n",
    "ds = load_dataset(\"abhinand/tamil-alpaca\", split=\"train\")\n",
    "print(ds)\n",
    "\n",
    "# Set tokenizer\n",
    "tokenizer = keras_nlp.models.GemmaTokenizer.from_preset(model_id)\n",
    "\n",
    "# Prepare data\n",
    "data = ds.with_format(\"np\", columns=[\"input\", \"output\"], output_all_columns=False)\n",
    "train = []\n",
    "\n",
    "for x in data:\n",
    "    item = f\"<start_of_turn>user\\n{x['input']}\\n<end_of_turn>\\n<start_of_turn>model\\n{x['output']}<end_of_turn>\"\n",
    "    length = len(tokenizer(item))\n",
    "    if length < token_limit:\n",
    "        train.append(item)\n",
    "        if len(train) >= num_data_limit:\n",
    "            break\n",
    "\n",
    "print(len(train))\n",
    "print(train[0])\n",
    "print(train[1])\n",
    "print(train[2])"
   ]
  },
  {
   "cell_type": "markdown",
   "id": "274c4bab",
   "metadata": {
    "papermill": {
     "duration": 0.00627,
     "end_time": "2024-11-11T05:38:50.153678",
     "exception": false,
     "start_time": "2024-11-11T05:38:50.147408",
     "status": "completed"
    },
    "tags": []
   },
   "source": [
    "# LoRA Fine-tuning"
   ]
  },
  {
   "cell_type": "code",
   "execution_count": 4,
   "id": "cab41343",
   "metadata": {
    "execution": {
     "iopub.execute_input": "2024-11-11T05:38:50.169364Z",
     "iopub.status.busy": "2024-11-11T05:38:50.168139Z",
     "iopub.status.idle": "2024-11-11T05:38:50.577060Z",
     "shell.execute_reply": "2024-11-11T05:38:50.576217Z"
    },
    "papermill": {
     "duration": 0.419196,
     "end_time": "2024-11-11T05:38:50.579378",
     "exception": false,
     "start_time": "2024-11-11T05:38:50.160182",
     "status": "completed"
    },
    "tags": []
   },
   "outputs": [
    {
     "data": {
      "text/html": [
       "<pre style=\"white-space:pre;overflow-x:auto;line-height:normal;font-family:Menlo,'DejaVu Sans Mono',consolas,'Courier New',monospace\"><span style=\"font-weight: bold\">Preprocessor: \"gemma_causal_lm_preprocessor\"</span>\n",
       "</pre>\n"
      ],
      "text/plain": [
       "\u001b[1mPreprocessor: \"gemma_causal_lm_preprocessor\"\u001b[0m\n"
      ]
     },
     "metadata": {},
     "output_type": "display_data"
    },
    {
     "data": {
      "text/html": [
       "<pre style=\"white-space:pre;overflow-x:auto;line-height:normal;font-family:Menlo,'DejaVu Sans Mono',consolas,'Courier New',monospace\">┏━━━━━━━━━━━━━━━━━━━━━━━━━━━━━━━━━━━━━━━━━━━━━━━━━━━━━━━━━━━━━━━┳━━━━━━━━━━━━━━━━━━━━━━━━━━━━━━━━━━━━━━━━━━┓\n",
       "┃<span style=\"font-weight: bold\"> Layer (type)                                                  </span>┃<span style=\"font-weight: bold\">                                   Config </span>┃\n",
       "┡━━━━━━━━━━━━━━━━━━━━━━━━━━━━━━━━━━━━━━━━━━━━━━━━━━━━━━━━━━━━━━━╇━━━━━━━━━━━━━━━━━━━━━━━━━━━━━━━━━━━━━━━━━━┩\n",
       "│ gemma_tokenizer (<span style=\"color: #0087ff; text-decoration-color: #0087ff\">GemmaTokenizer</span>)                              │                      Vocab size: <span style=\"color: #00af00; text-decoration-color: #00af00\">256,000</span> │\n",
       "└───────────────────────────────────────────────────────────────┴──────────────────────────────────────────┘\n",
       "</pre>\n"
      ],
      "text/plain": [
       "┏━━━━━━━━━━━━━━━━━━━━━━━━━━━━━━━━━━━━━━━━━━━━━━━━━━━━━━━━━━━━━━━┳━━━━━━━━━━━━━━━━━━━━━━━━━━━━━━━━━━━━━━━━━━┓\n",
       "┃\u001b[1m \u001b[0m\u001b[1mLayer (type)                                                 \u001b[0m\u001b[1m \u001b[0m┃\u001b[1m \u001b[0m\u001b[1m                                  Config\u001b[0m\u001b[1m \u001b[0m┃\n",
       "┡━━━━━━━━━━━━━━━━━━━━━━━━━━━━━━━━━━━━━━━━━━━━━━━━━━━━━━━━━━━━━━━╇━━━━━━━━━━━━━━━━━━━━━━━━━━━━━━━━━━━━━━━━━━┩\n",
       "│ gemma_tokenizer (\u001b[38;5;33mGemmaTokenizer\u001b[0m)                              │                      Vocab size: \u001b[38;5;34m256,000\u001b[0m │\n",
       "└───────────────────────────────────────────────────────────────┴──────────────────────────────────────────┘\n"
      ]
     },
     "metadata": {},
     "output_type": "display_data"
    },
    {
     "data": {
      "text/html": [
       "<pre style=\"white-space:pre;overflow-x:auto;line-height:normal;font-family:Menlo,'DejaVu Sans Mono',consolas,'Courier New',monospace\"><span style=\"font-weight: bold\">Model: \"gemma_causal_lm\"</span>\n",
       "</pre>\n"
      ],
      "text/plain": [
       "\u001b[1mModel: \"gemma_causal_lm\"\u001b[0m\n"
      ]
     },
     "metadata": {},
     "output_type": "display_data"
    },
    {
     "data": {
      "text/html": [
       "<pre style=\"white-space:pre;overflow-x:auto;line-height:normal;font-family:Menlo,'DejaVu Sans Mono',consolas,'Courier New',monospace\">┏━━━━━━━━━━━━━━━━━━━━━━━━━━━━━━━┳━━━━━━━━━━━━━━━━━━━━━━━━━━━┳━━━━━━━━━━━━━━━━━┳━━━━━━━━━━━━━━━━━━━━━━━━━━━━┓\n",
       "┃<span style=\"font-weight: bold\"> Layer (type)                  </span>┃<span style=\"font-weight: bold\"> Output Shape              </span>┃<span style=\"font-weight: bold\">         Param # </span>┃<span style=\"font-weight: bold\"> Connected to               </span>┃\n",
       "┡━━━━━━━━━━━━━━━━━━━━━━━━━━━━━━━╇━━━━━━━━━━━━━━━━━━━━━━━━━━━╇━━━━━━━━━━━━━━━━━╇━━━━━━━━━━━━━━━━━━━━━━━━━━━━┩\n",
       "│ padding_mask (<span style=\"color: #0087ff; text-decoration-color: #0087ff\">InputLayer</span>)     │ (<span style=\"color: #00d7ff; text-decoration-color: #00d7ff\">None</span>, <span style=\"color: #00d7ff; text-decoration-color: #00d7ff\">None</span>)              │               <span style=\"color: #00af00; text-decoration-color: #00af00\">0</span> │ -                          │\n",
       "├───────────────────────────────┼───────────────────────────┼─────────────────┼────────────────────────────┤\n",
       "│ token_ids (<span style=\"color: #0087ff; text-decoration-color: #0087ff\">InputLayer</span>)        │ (<span style=\"color: #00d7ff; text-decoration-color: #00d7ff\">None</span>, <span style=\"color: #00d7ff; text-decoration-color: #00d7ff\">None</span>)              │               <span style=\"color: #00af00; text-decoration-color: #00af00\">0</span> │ -                          │\n",
       "├───────────────────────────────┼───────────────────────────┼─────────────────┼────────────────────────────┤\n",
       "│ gemma_backbone                │ (<span style=\"color: #00d7ff; text-decoration-color: #00d7ff\">None</span>, <span style=\"color: #00d7ff; text-decoration-color: #00d7ff\">None</span>, <span style=\"color: #00af00; text-decoration-color: #00af00\">2304</span>)        │   <span style=\"color: #00af00; text-decoration-color: #00af00\">2,617,270,528</span> │ padding_mask[<span style=\"color: #00af00; text-decoration-color: #00af00\">0</span>][<span style=\"color: #00af00; text-decoration-color: #00af00\">0</span>],        │\n",
       "│ (<span style=\"color: #0087ff; text-decoration-color: #0087ff\">GemmaBackbone</span>)               │                           │                 │ token_ids[<span style=\"color: #00af00; text-decoration-color: #00af00\">0</span>][<span style=\"color: #00af00; text-decoration-color: #00af00\">0</span>]            │\n",
       "├───────────────────────────────┼───────────────────────────┼─────────────────┼────────────────────────────┤\n",
       "│ token_embedding               │ (<span style=\"color: #00d7ff; text-decoration-color: #00d7ff\">None</span>, <span style=\"color: #00d7ff; text-decoration-color: #00d7ff\">None</span>, <span style=\"color: #00af00; text-decoration-color: #00af00\">256000</span>)      │     <span style=\"color: #00af00; text-decoration-color: #00af00\">589,824,000</span> │ gemma_backbone[<span style=\"color: #00af00; text-decoration-color: #00af00\">0</span>][<span style=\"color: #00af00; text-decoration-color: #00af00\">0</span>]       │\n",
       "│ (<span style=\"color: #0087ff; text-decoration-color: #0087ff\">ReversibleEmbedding</span>)         │                           │                 │                            │\n",
       "└───────────────────────────────┴───────────────────────────┴─────────────────┴────────────────────────────┘\n",
       "</pre>\n"
      ],
      "text/plain": [
       "┏━━━━━━━━━━━━━━━━━━━━━━━━━━━━━━━┳━━━━━━━━━━━━━━━━━━━━━━━━━━━┳━━━━━━━━━━━━━━━━━┳━━━━━━━━━━━━━━━━━━━━━━━━━━━━┓\n",
       "┃\u001b[1m \u001b[0m\u001b[1mLayer (type)                 \u001b[0m\u001b[1m \u001b[0m┃\u001b[1m \u001b[0m\u001b[1mOutput Shape             \u001b[0m\u001b[1m \u001b[0m┃\u001b[1m \u001b[0m\u001b[1m        Param #\u001b[0m\u001b[1m \u001b[0m┃\u001b[1m \u001b[0m\u001b[1mConnected to              \u001b[0m\u001b[1m \u001b[0m┃\n",
       "┡━━━━━━━━━━━━━━━━━━━━━━━━━━━━━━━╇━━━━━━━━━━━━━━━━━━━━━━━━━━━╇━━━━━━━━━━━━━━━━━╇━━━━━━━━━━━━━━━━━━━━━━━━━━━━┩\n",
       "│ padding_mask (\u001b[38;5;33mInputLayer\u001b[0m)     │ (\u001b[38;5;45mNone\u001b[0m, \u001b[38;5;45mNone\u001b[0m)              │               \u001b[38;5;34m0\u001b[0m │ -                          │\n",
       "├───────────────────────────────┼───────────────────────────┼─────────────────┼────────────────────────────┤\n",
       "│ token_ids (\u001b[38;5;33mInputLayer\u001b[0m)        │ (\u001b[38;5;45mNone\u001b[0m, \u001b[38;5;45mNone\u001b[0m)              │               \u001b[38;5;34m0\u001b[0m │ -                          │\n",
       "├───────────────────────────────┼───────────────────────────┼─────────────────┼────────────────────────────┤\n",
       "│ gemma_backbone                │ (\u001b[38;5;45mNone\u001b[0m, \u001b[38;5;45mNone\u001b[0m, \u001b[38;5;34m2304\u001b[0m)        │   \u001b[38;5;34m2,617,270,528\u001b[0m │ padding_mask[\u001b[38;5;34m0\u001b[0m][\u001b[38;5;34m0\u001b[0m],        │\n",
       "│ (\u001b[38;5;33mGemmaBackbone\u001b[0m)               │                           │                 │ token_ids[\u001b[38;5;34m0\u001b[0m][\u001b[38;5;34m0\u001b[0m]            │\n",
       "├───────────────────────────────┼───────────────────────────┼─────────────────┼────────────────────────────┤\n",
       "│ token_embedding               │ (\u001b[38;5;45mNone\u001b[0m, \u001b[38;5;45mNone\u001b[0m, \u001b[38;5;34m256000\u001b[0m)      │     \u001b[38;5;34m589,824,000\u001b[0m │ gemma_backbone[\u001b[38;5;34m0\u001b[0m][\u001b[38;5;34m0\u001b[0m]       │\n",
       "│ (\u001b[38;5;33mReversibleEmbedding\u001b[0m)         │                           │                 │                            │\n",
       "└───────────────────────────────┴───────────────────────────┴─────────────────┴────────────────────────────┘\n"
      ]
     },
     "metadata": {},
     "output_type": "display_data"
    },
    {
     "data": {
      "text/html": [
       "<pre style=\"white-space:pre;overflow-x:auto;line-height:normal;font-family:Menlo,'DejaVu Sans Mono',consolas,'Courier New',monospace\"><span style=\"font-weight: bold\"> Total params: </span><span style=\"color: #00af00; text-decoration-color: #00af00\">2,617,270,528</span> (9.75 GB)\n",
       "</pre>\n"
      ],
      "text/plain": [
       "\u001b[1m Total params: \u001b[0m\u001b[38;5;34m2,617,270,528\u001b[0m (9.75 GB)\n"
      ]
     },
     "metadata": {},
     "output_type": "display_data"
    },
    {
     "data": {
      "text/html": [
       "<pre style=\"white-space:pre;overflow-x:auto;line-height:normal;font-family:Menlo,'DejaVu Sans Mono',consolas,'Courier New',monospace\"><span style=\"font-weight: bold\"> Trainable params: </span><span style=\"color: #00af00; text-decoration-color: #00af00\">2,928,640</span> (11.17 MB)\n",
       "</pre>\n"
      ],
      "text/plain": [
       "\u001b[1m Trainable params: \u001b[0m\u001b[38;5;34m2,928,640\u001b[0m (11.17 MB)\n"
      ]
     },
     "metadata": {},
     "output_type": "display_data"
    },
    {
     "data": {
      "text/html": [
       "<pre style=\"white-space:pre;overflow-x:auto;line-height:normal;font-family:Menlo,'DejaVu Sans Mono',consolas,'Courier New',monospace\"><span style=\"font-weight: bold\"> Non-trainable params: </span><span style=\"color: #00af00; text-decoration-color: #00af00\">2,614,341,888</span> (9.74 GB)\n",
       "</pre>\n"
      ],
      "text/plain": [
       "\u001b[1m Non-trainable params: \u001b[0m\u001b[38;5;34m2,614,341,888\u001b[0m (9.74 GB)\n"
      ]
     },
     "metadata": {},
     "output_type": "display_data"
    }
   ],
   "source": [
    "# Enable LoRA for the model and set the LoRA rank to 4.\n",
    "gemma_lm.backbone.enable_lora(rank=lora_rank)\n",
    "gemma_lm.summary()\n",
    "\n",
    "# Limit the input sequence length (to control memory usage).\n",
    "gemma_lm.preprocessor.sequence_length = token_limit\n",
    "# Use AdamW (a common optimizer for transformer models).\n",
    "optimizer = keras.optimizers.AdamW(\n",
    "    learning_rate=lr_value,\n",
    "    weight_decay=0.01,\n",
    ")\n",
    "# Exclude layernorm and bias terms from decay.\n",
    "optimizer.exclude_from_weight_decay(var_names=[\"bias\", \"scale\"])\n",
    "\n",
    "gemma_lm.compile(\n",
    "    loss=keras.losses.SparseCategoricalCrossentropy(from_logits=True),\n",
    "    optimizer=optimizer,\n",
    "    weighted_metrics=[keras.metrics.SparseCategoricalAccuracy()],\n",
    ")"
   ]
  },
  {
   "cell_type": "markdown",
   "id": "4f0f4a7c",
   "metadata": {
    "papermill": {
     "duration": 0.007392,
     "end_time": "2024-11-11T05:38:50.594483",
     "exception": false,
     "start_time": "2024-11-11T05:38:50.587091",
     "status": "completed"
    },
    "tags": []
   },
   "source": [
    "# Save LoRA for each epoch"
   ]
  },
  {
   "cell_type": "code",
   "execution_count": 5,
   "id": "f12d92be",
   "metadata": {
    "execution": {
     "iopub.execute_input": "2024-11-11T05:38:50.611881Z",
     "iopub.status.busy": "2024-11-11T05:38:50.611504Z",
     "iopub.status.idle": "2024-11-11T05:54:57.427492Z",
     "shell.execute_reply": "2024-11-11T05:54:57.426527Z"
    },
    "papermill": {
     "duration": 966.827728,
     "end_time": "2024-11-11T05:54:57.429593",
     "exception": false,
     "start_time": "2024-11-11T05:38:50.601865",
     "status": "completed"
    },
    "tags": []
   },
   "outputs": [
    {
     "name": "stdout",
     "output_type": "stream",
     "text": [
      "Epoch 1/20\n",
      "\u001b[1m 85/100\u001b[0m \u001b[32m━━━━━━━━━━━━━━━━━\u001b[0m\u001b[37m━━━\u001b[0m \u001b[1m10s\u001b[0m 722ms/step - loss: 1.3033 - sparse_categorical_accuracy: 0.5296\n",
      "Gemma output:\n",
      "<start_of_turn>user\n",
      "தமிழில் ஒரு மின்னஞ்சல் பதிலை உருவாக்கவும்.<end_of_turn>\n",
      "<start_of_turn>model\n",
      "நீங்கள் எப்படி இருக்கிறீர்கள்? \n",
      "<end_of_turn>\n",
      "TOTAL TIME ELAPSED: 16.18s\n",
      "\u001b[1m100/100\u001b[0m \u001b[32m━━━━━━━━━━━━━━━━━━━━\u001b[0m\u001b[37m\u001b[0m \u001b[1m107s\u001b[0m 777ms/step - loss: 1.2468 - sparse_categorical_accuracy: 0.5315\n",
      "Epoch 2/20\n",
      "\u001b[1m 87/100\u001b[0m \u001b[32m━━━━━━━━━━━━━━━━━\u001b[0m\u001b[37m━━━\u001b[0m \u001b[1m6s\u001b[0m 482ms/step - loss: 0.9301 - sparse_categorical_accuracy: 0.5834\n",
      "Gemma output:\n",
      "<start_of_turn>user\n",
      "தமிழில் ஒரு மின்னஞ்சல் பதிலை உருவாக்கவும்.<end_of_turn>\n",
      "<start_of_turn>model\n",
      "இந்த மின்னஞ்சலை உருவாக்கவும்.<end_of_turn>\n",
      "TOTAL TIME ELAPSED: 0.76s\n",
      "\u001b[1m100/100\u001b[0m \u001b[32m━━━━━━━━━━━━━━━━━━━━\u001b[0m\u001b[37m\u001b[0m \u001b[1m62s\u001b[0m 428ms/step - loss: 0.9048 - sparse_categorical_accuracy: 0.5857\n",
      "Epoch 3/20\n",
      "\u001b[1m 85/100\u001b[0m \u001b[32m━━━━━━━━━━━━━━━━━\u001b[0m\u001b[37m━━━\u001b[0m \u001b[1m7s\u001b[0m 484ms/step - loss: 0.8141 - sparse_categorical_accuracy: 0.6081\n",
      "Gemma output:\n",
      "<start_of_turn>user\n",
      "தமிழில் ஒரு மின்னஞ்சல் பதிலை உருவாக்கவும்.<end_of_turn>\n",
      "<start_of_turn>model\n",
      "மின்னஞ்சல் பதிலை:\n",
      "<end_of_turn>\n",
      "TOTAL TIME ELAPSED: 0.67s\n",
      "\u001b[1m100/100\u001b[0m \u001b[32m━━━━━━━━━━━━━━━━━━━━\u001b[0m\u001b[37m\u001b[0m \u001b[1m43s\u001b[0m 418ms/step - loss: 0.7902 - sparse_categorical_accuracy: 0.6102\n",
      "Epoch 4/20\n",
      "\u001b[1m 86/100\u001b[0m \u001b[32m━━━━━━━━━━━━━━━━━\u001b[0m\u001b[37m━━━\u001b[0m \u001b[1m6s\u001b[0m 478ms/step - loss: 0.7301 - sparse_categorical_accuracy: 0.6328\n",
      "Gemma output:\n",
      "<start_of_turn>user\n",
      "தமிழில் ஒரு மின்னஞ்சல் பதிலை உருவாக்கவும்.<end_of_turn>\n",
      "<start_of_turn>model\n",
      "மின்னஞ்சல் பதிலை:\n",
      "<end_of_turn>\n",
      "TOTAL TIME ELAPSED: 0.67s\n",
      "\u001b[1m100/100\u001b[0m \u001b[32m━━━━━━━━━━━━━━━━━━━━\u001b[0m\u001b[37m\u001b[0m \u001b[1m43s\u001b[0m 418ms/step - loss: 0.7101 - sparse_categorical_accuracy: 0.6354\n",
      "Epoch 5/20\n",
      "\u001b[1m 88/100\u001b[0m \u001b[32m━━━━━━━━━━━━━━━━━\u001b[0m\u001b[37m━━━\u001b[0m \u001b[1m5s\u001b[0m 467ms/step - loss: 0.6638 - sparse_categorical_accuracy: 0.6589\n",
      "Gemma output:\n",
      "<start_of_turn>user\n",
      "தமிழில் ஒரு மின்னஞ்சல் பதிலை உருவாக்கவும்.<end_of_turn>\n",
      "<start_of_turn>model\n",
      "மின்னஞ்சல் பதிலை:\n",
      "<end_of_turn>\n",
      "TOTAL TIME ELAPSED: 0.67s\n",
      "\u001b[1m100/100\u001b[0m \u001b[32m━━━━━━━━━━━━━━━━━━━━\u001b[0m\u001b[37m\u001b[0m \u001b[1m43s\u001b[0m 418ms/step - loss: 0.6498 - sparse_categorical_accuracy: 0.6612\n",
      "Epoch 6/20\n",
      "\u001b[1m 87/100\u001b[0m \u001b[32m━━━━━━━━━━━━━━━━━\u001b[0m\u001b[37m━━━\u001b[0m \u001b[1m6s\u001b[0m 473ms/step - loss: 0.6029 - sparse_categorical_accuracy: 0.6868\n",
      "Gemma output:\n",
      "<start_of_turn>user\n",
      "தமிழில் ஒரு மின்னஞ்சல் பதிலை உருவாக்கவும்.<end_of_turn>\n",
      "<start_of_turn>model\n",
      "மின்னஞ்சல் பதிலை உருவாக்கவும்:\n",
      "<end_of_turn>\n",
      "TOTAL TIME ELAPSED: 0.86s\n",
      "\u001b[1m100/100\u001b[0m \u001b[32m━━━━━━━━━━━━━━━━━━━━\u001b[0m\u001b[37m\u001b[0m \u001b[1m43s\u001b[0m 420ms/step - loss: 0.5886 - sparse_categorical_accuracy: 0.6891\n",
      "Epoch 7/20\n",
      "\u001b[1m 85/100\u001b[0m \u001b[32m━━━━━━━━━━━━━━━━━\u001b[0m\u001b[37m━━━\u001b[0m \u001b[1m7s\u001b[0m 484ms/step - loss: 0.5406 - sparse_categorical_accuracy: 0.7183\n",
      "Gemma output:\n",
      "<start_of_turn>user\n",
      "தமிழில் ஒரு மின்னஞ்சல் பதிலை உருவாக்கவும்.<end_of_turn>\n",
      "<start_of_turn>model\n",
      "இந்த மின்னஞ்சலை உருவாக்க, உங்கள் மின்னஞ்சலின் தலைப்பு மற்றும் உள்ளடக்கத்தைப் பற்றி கூறுங்கள். எடுத்துக்காட்டு:\n",
      "\n",
      "உதாரணம் 1: \"அன்புடன், உங்கள் படிப்பைப் பற்றி கேள்விகளைப் பற்றி\"\n",
      "உதாரணம் 2: \"அன்புடன், உங்கள் படிப்பைப் பற்றி கேள்விகளைப் பற்றி\"\n",
      "\n",
      "இந்த மின்னஞ்சலின் தலைப்பு மற்றும் உள்ளடக்கத்தைப் பற்றி கூறுங்கள், அது உங்களுக்கு பிடித்த மாதிரியாக இருக்க வேண்டும்.<end_of_turn>\n",
      "TOTAL TIME ELAPSED: 6.17s\n",
      "\u001b[1m100/100\u001b[0m \u001b[32m━━━━━━━━━━━━━━━━━━━━\u001b[0m\u001b[37m\u001b[0m \u001b[1m48s\u001b[0m 474ms/step - loss: 0.5254 - sparse_categorical_accuracy: 0.7208\n",
      "Epoch 8/20\n",
      "\u001b[1m 86/100\u001b[0m \u001b[32m━━━━━━━━━━━━━━━━━\u001b[0m\u001b[37m━━━\u001b[0m \u001b[1m6s\u001b[0m 478ms/step - loss: 0.4723 - sparse_categorical_accuracy: 0.7517\n",
      "Gemma output:\n",
      "<start_of_turn>user\n",
      "தமிழில் ஒரு மின்னஞ்சல் பதிலை உருவாக்கவும்.<end_of_turn>\n",
      "<start_of_turn>model\n",
      "மின்னஞ்சல் உருவாக்கப்பட்டதும் பதிலை உருவாக்கியதும் இது.<end_of_turn>\n",
      "TOTAL TIME ELAPSED: 1.24s\n",
      "\u001b[1m100/100\u001b[0m \u001b[32m━━━━━━━━━━━━━━━━━━━━\u001b[0m\u001b[37m\u001b[0m \u001b[1m43s\u001b[0m 424ms/step - loss: 0.4586 - sparse_categorical_accuracy: 0.7554\n",
      "Epoch 9/20\n",
      "\u001b[1m 86/100\u001b[0m \u001b[32m━━━━━━━━━━━━━━━━━\u001b[0m\u001b[37m━━━\u001b[0m \u001b[1m6s\u001b[0m 478ms/step - loss: 0.4056 - sparse_categorical_accuracy: 0.7944\n",
      "Gemma output:\n",
      "<start_of_turn>user\n",
      "தமிழில் ஒரு மின்னஞ்சல் பதிலை உருவாக்கவும்.<end_of_turn>\n",
      "<start_of_turn>model\n",
      "இல்லை, நான் ஒரு மின்னஞ்சலை உருவாக்க முடியாது. ஓர் மின்னஞ்சலை உருவாக்க முடியுமா?<end_of_turn>\n",
      "TOTAL TIME ELAPSED: 1.69s\n",
      "\u001b[1m100/100\u001b[0m \u001b[32m━━━━━━━━━━━━━━━━━━━━\u001b[0m\u001b[37m\u001b[0m \u001b[1m44s\u001b[0m 429ms/step - loss: 0.3945 - sparse_categorical_accuracy: 0.7964\n",
      "Epoch 10/20\n",
      "\u001b[1m 90/100\u001b[0m \u001b[32m━━━━━━━━━━━━━━━━━━\u001b[0m\u001b[37m━━\u001b[0m \u001b[1m4s\u001b[0m 457ms/step - loss: 0.3423 - sparse_categorical_accuracy: 0.8344\n",
      "Gemma output:\n",
      "<start_of_turn>user\n",
      "தமிழில் ஒரு மின்னஞ்சல் பதிலை உருவாக்கவும்.<end_of_turn>\n",
      "<start_of_turn>model\n",
      "மின்னஞ்சலை உருவாக்க:\n",
      "இணைப்பு வழங்கப்பட்டீர்களா?\n",
      "<end_of_turn>\n",
      "TOTAL TIME ELAPSED: 1.12s\n",
      "\u001b[1m100/100\u001b[0m \u001b[32m━━━━━━━━━━━━━━━━━━━━\u001b[0m\u001b[37m\u001b[0m \u001b[1m43s\u001b[0m 423ms/step - loss: 0.3375 - sparse_categorical_accuracy: 0.8352\n",
      "Epoch 11/20\n",
      "\u001b[1m 88/100\u001b[0m \u001b[32m━━━━━━━━━━━━━━━━━\u001b[0m\u001b[37m━━━\u001b[0m \u001b[1m5s\u001b[0m 467ms/step - loss: 0.2935 - sparse_categorical_accuracy: 0.8694\n",
      "Gemma output:\n",
      "<start_of_turn>user\n",
      "தமிழில் ஒரு மின்னஞ்சல் பதிலை உருவாக்கவும்.<end_of_turn>\n",
      "<start_of_turn>model\n",
      "மற்றும் நான் ஒரு மின்னஞ்சலை உருவாக்க முயற்சி செய்கிறேன்.<end_of_turn>\n",
      "TOTAL TIME ELAPSED: 1.16s\n",
      "\u001b[1m100/100\u001b[0m \u001b[32m━━━━━━━━━━━━━━━━━━━━\u001b[0m\u001b[37m\u001b[0m \u001b[1m43s\u001b[0m 423ms/step - loss: 0.2859 - sparse_categorical_accuracy: 0.8700\n",
      "Epoch 12/20\n",
      "\u001b[1m 87/100\u001b[0m \u001b[32m━━━━━━━━━━━━━━━━━\u001b[0m\u001b[37m━━━\u001b[0m \u001b[1m6s\u001b[0m 473ms/step - loss: 0.2484 - sparse_categorical_accuracy: 0.8959\n",
      "Gemma output:\n",
      "<start_of_turn>user\n",
      "தமிழில் ஒரு மின்னஞ்சல் பதிலை உருவாக்கவும்.<end_of_turn>\n",
      "<start_of_turn>model\n",
      "மற்றan வலியு stampஐப் பயன்படுத்துவது எளிது. எடுத்துக்காட்டelen, \"ஆரம்பிப்பார்\" மின்னஞ்சலை உருவாக்க www.mailvelope.com. www.mailvelope.com-ஐப் பயன்படுத்தி மின்னஞ்சல்கள் எளிதாக ஆரோக்கியமாகவும் பாதுகாப்பாகவும் பகிரலாம்.<end_of_turn>\n",
      "TOTAL TIME ELAPSED: 3.82s\n",
      "\u001b[1m100/100\u001b[0m \u001b[32m━━━━━━━━━━━━━━━━━━━━\u001b[0m\u001b[37m\u001b[0m \u001b[1m46s\u001b[0m 450ms/step - loss: 0.2421 - sparse_categorical_accuracy: 0.8964\n",
      "Epoch 13/20\n",
      "\u001b[1m 83/100\u001b[0m \u001b[32m━━━━━━━━━━━━━━━━\u001b[0m\u001b[37m━━━━\u001b[0m \u001b[1m8s\u001b[0m 496ms/step - loss: 0.2142 - sparse_categorical_accuracy: 0.9136\n",
      "Gemma output:\n",
      "<start_of_turn>user\n",
      "தமிழில் ஒரு மின்னஞ்சல் பதிலை உருவாக்கவும்.<end_of_turn>\n",
      "<start_of_turn>model\n",
      "மின்னஞ்சல் பதிலை இங்கே: ஒரு மின்னஞ்சல்.<end_of_turn>\n",
      "TOTAL TIME ELAPSED: 1.01s\n",
      "\u001b[1m100/100\u001b[0m \u001b[32m━━━━━━━━━━━━━━━━━━━━\u001b[0m\u001b[37m\u001b[0m \u001b[1m43s\u001b[0m 422ms/step - loss: 0.2078 - sparse_categorical_accuracy: 0.9148\n",
      "Epoch 14/20\n",
      "\u001b[1m 84/100\u001b[0m \u001b[32m━━━━━━━━━━━━━━━━\u001b[0m\u001b[37m━━━━\u001b[0m \u001b[1m7s\u001b[0m 490ms/step - loss: 0.1842 - sparse_categorical_accuracy: 0.9315\n",
      "Gemma output:\n",
      "<start_of_turn>user\n",
      "தமிழில் ஒரு மின்னஞ்சல் பதிலை உருவாக்கவும்.<end_of_turn>\n",
      "<start_of_turn>model\n",
      "மின்னஞ்சல் பதிலை உருவாக்கப்பட்டதும், மின்னஞ்சல் பதிலை தமிழில் உருவாக்கியதும் இன்னும் வரவேற்று. ஓரளவுக்கு மின்னஞ்சல் பதிலை உருவாக்க இயலாத, ஆனால், 'தன் மரியாதை' மற்றும் 'அநியasசனம்' என்ற இரு காரணிகளைப் பற்றி ஒருபோதும் வரையாத ஒரு புத்தகம். \n",
      "\n",
      "புத்தகம், தமிழில் உருவாக்கப்பட்ட, தன் மரபு மிக்கதும், அணுக்கரு ஆவியாக உள்ளதும்.  энциклопедия, தனது ஒrது rோலத்தை ஏrற்ற.<end_of_turn>\n",
      "TOTAL TIME ELAPSED: 6.66s\n",
      "\u001b[1m100/100\u001b[0m \u001b[32m━━━━━━━━━━━━━━━━━━━━\u001b[0m\u001b[37m\u001b[0m \u001b[1m49s\u001b[0m 479ms/step - loss: 0.1781 - sparse_categorical_accuracy: 0.9326\n",
      "Epoch 15/20\n",
      "\u001b[1m 86/100\u001b[0m \u001b[32m━━━━━━━━━━━━━━━━━\u001b[0m\u001b[37m━━━\u001b[0m \u001b[1m6s\u001b[0m 478ms/step - loss: 0.1526 - sparse_categorical_accuracy: 0.9459\n",
      "Gemma output:\n",
      "<start_of_turn>user\n",
      "தமிழில் ஒரு மின்னஞ்சல் பதிலை உருவாக்கவும்.<end_of_turn>\n",
      "<start_of_turn>model\n",
      "மின்னஞ்சல் பதிலை உருவாக்கப்பட்டதும், activar el correo electrónico.<end_of_turn>\n",
      "TOTAL TIME ELAPSED: 1.08s\n",
      "\u001b[1m100/100\u001b[0m \u001b[32m━━━━━━━━━━━━━━━━━━━━\u001b[0m\u001b[37m\u001b[0m \u001b[1m43s\u001b[0m 422ms/step - loss: 0.1493 - sparse_categorical_accuracy: 0.9465\n",
      "Epoch 16/20\n",
      "\u001b[1m 86/100\u001b[0m \u001b[32m━━━━━━━━━━━━━━━━━\u001b[0m\u001b[37m━━━\u001b[0m \u001b[1m6s\u001b[0m 478ms/step - loss: 0.1342 - sparse_categorical_accuracy: 0.9552\n",
      "Gemma output:\n",
      "<start_of_turn>user\n",
      "தமிழில் ஒரு மின்னஞ்சல் பதிலை உருவாக்கவும்.<end_of_turn>\n",
      "<start_of_turn>model\n",
      "மின்னஞ்சல் பதிலை உருவாக்கப்பட்டதும், உங்களிடம் வர வேண்டியதாக ஒருˈரென்யeட்ˈதஅவுட்ˈலீட்டட்.<end_of_turn>\n",
      "TOTAL TIME ELAPSED: 2.04s\n",
      "\u001b[1m100/100\u001b[0m \u001b[32m━━━━━━━━━━━━━━━━━━━━\u001b[0m\u001b[37m\u001b[0m \u001b[1m44s\u001b[0m 432ms/step - loss: 0.1328 - sparse_categorical_accuracy: 0.9552\n",
      "Epoch 17/20\n",
      "\u001b[1m 91/100\u001b[0m \u001b[32m━━━━━━━━━━━━━━━━━━\u001b[0m\u001b[37m━━\u001b[0m \u001b[1m4s\u001b[0m 452ms/step - loss: 0.1231 - sparse_categorical_accuracy: 0.9599\n",
      "Gemma output:\n",
      "<start_of_turn>user\n",
      "தமிழில் ஒரு மின்னஞ்சல் பதிலை உருவாக்கவும்.<end_of_turn>\n",
      "<start_of_turn>model\n",
      "மின்னஞ்சல் பதிலை உருவாக்கப்பட்டதும், தயக்கமற்றதும், உங்களின் மறு Puth கட்டினதும்.<end_of_turn>\n",
      "TOTAL TIME ELAPSED: 1.69s\n",
      "\u001b[1m100/100\u001b[0m \u001b[32m━━━━━━━━━━━━━━━━━━━━\u001b[0m\u001b[37m\u001b[0m \u001b[1m44s\u001b[0m 429ms/step - loss: 0.1221 - sparse_categorical_accuracy: 0.9599\n",
      "Epoch 18/20\n",
      "\u001b[1m 85/100\u001b[0m \u001b[32m━━━━━━━━━━━━━━━━━\u001b[0m\u001b[37m━━━\u001b[0m \u001b[1m7s\u001b[0m 484ms/step - loss: 0.1084 - sparse_categorical_accuracy: 0.9648 \n",
      "Gemma output:\n",
      "<start_of_turn>user\n",
      "தமிழில் ஒரு மின்னஞ்சல் பதிலை உருவாக்கவும்.<end_of_turn>\n",
      "<start_of_turn>model\n",
      "மின்னஞ்சல் பதிலை உருவாக்கப்பட்டதும், உங்கள் மின்னஞ்சல் பதிலை உங்களுக்கும் ஏற்றுக்கொள்ளலாம்.<end_of_turn>\n",
      "TOTAL TIME ELAPSED: 1.77s\n",
      "\u001b[1m100/100\u001b[0m \u001b[32m━━━━━━━━━━━━━━━━━━━━\u001b[0m\u001b[37m\u001b[0m \u001b[1m44s\u001b[0m 429ms/step - loss: 0.1072 - sparse_categorical_accuracy: 0.9646\n",
      "Epoch 19/20\n",
      "\u001b[1m 86/100\u001b[0m \u001b[32m━━━━━━━━━━━━━━━━━\u001b[0m\u001b[37m━━━\u001b[0m \u001b[1m6s\u001b[0m 478ms/step - loss: 0.0959 - sparse_categorical_accuracy: 0.9704\n",
      "Gemma output:\n",
      "<start_of_turn>user\n",
      "தமிழில் ஒரு மின்னஞ்சல் பதிலை உருவாக்கவும்.<end_of_turn>\n",
      "<start_of_turn>model\n",
      "மின்னஞ்சல் பதிலை உருவாக்கப்பட்டதும், அதுக்குப் பதிலை உருவாக்கிய மோtோரு ஆஃபியரால் அனுப்பப்பட்டது. RouterModule என்பது Node.js இல் பயன்படுத்தப்படும் ஒரு மின்னஞ்சல் API ஆகும்.<end_of_turn>\n",
      "TOTAL TIME ELAPSED: 2.91s\n",
      "\u001b[1m100/100\u001b[0m \u001b[32m━━━━━━━━━━━━━━━━━━━━\u001b[0m\u001b[37m\u001b[0m \u001b[1m45s\u001b[0m 441ms/step - loss: 0.0952 - sparse_categorical_accuracy: 0.9701\n",
      "Epoch 20/20\n",
      "\u001b[1m 87/100\u001b[0m \u001b[32m━━━━━━━━━━━━━━━━━\u001b[0m\u001b[37m━━━\u001b[0m \u001b[1m6s\u001b[0m 473ms/step - loss: 0.0864 - sparse_categorical_accuracy: 0.9717\n",
      "Gemma output:\n",
      "<start_of_turn>user\n",
      "தமிழில் ஒரு மின்னஞ்சல் பதிலை உருவாக்கவும்.<end_of_turn>\n",
      "<start_of_turn>model\n",
      "மின்னஞ்சல் பதிலை உருவாக்கப்பட்டதும், அதுக்குப் பதிலை உருவாக்கிய மோtரஜ் motor '@' பதிலை '@'க்கும் மாற்றியது.<end_of_turn>\n",
      "TOTAL TIME ELAPSED: 2.18s\n",
      "\u001b[1m100/100\u001b[0m \u001b[32m━━━━━━━━━━━━━━━━━━━━\u001b[0m\u001b[37m\u001b[0m \u001b[1m44s\u001b[0m 434ms/step - loss: 0.0859 - sparse_categorical_accuracy: 0.9715\n"
     ]
    },
    {
     "data": {
      "image/png": "[encoded data removed]",
      "text/plain": [
       "<Figure size 640x480 with 1 Axes>"
      ]
     },
     "metadata": {},
     "output_type": "display_data"
    }
   ],
   "source": [
    "class CustomCallback(keras.callbacks.Callback):\n",
    "    def on_epoch_end(self, epoch, logs=None):\n",
    "        model_name = f\"/kaggle/working/{lora_name}_{lora_rank}_epoch{epoch+1}.lora.h5\"\n",
    "        gemma_lm.backbone.save_lora_weights(model_name)\n",
    "        # Evaluate the model\n",
    "        text_gen(\"தமிழில் ஒரு மின்னஞ்சல் பதிலை உருவாக்கவும்.\")\n",
    "\n",
    "# Training with callback to save weights\n",
    "history = gemma_lm.fit(train, epochs=train_epoch, batch_size=1, callbacks=[CustomCallback()])\n",
    "\n",
    "# Plot training loss\n",
    "import matplotlib.pyplot as plt\n",
    "plt.plot(history.history['loss'])\n",
    "plt.show()"
   ]
  },
  {
   "cell_type": "markdown",
   "id": "fdb20303",
   "metadata": {
    "papermill": {
     "duration": 0.13804,
     "end_time": "2024-11-11T05:54:57.705735",
     "exception": false,
     "start_time": "2024-11-11T05:54:57.567695",
     "status": "completed"
    },
    "tags": []
   },
   "source": [
    "# Load LoRA\n",
    "\n",
    "Use the code below if you shared LoRA weights. It's much more lightweight than the model files themselves - for instance, a LoRA rank 4 weights file for a 10gb model might only be on the order of a few megabytes, easily shared over email."
   ]
  },
  {
   "cell_type": "code",
   "execution_count": 6,
   "id": "4720e854",
   "metadata": {
    "execution": {
     "iopub.execute_input": "2024-11-11T05:54:57.982815Z",
     "iopub.status.busy": "2024-11-11T05:54:57.981920Z",
     "iopub.status.idle": "2024-11-11T05:54:57.988669Z",
     "shell.execute_reply": "2024-11-11T05:54:57.987796Z"
    },
    "papermill": {
     "duration": 0.147351,
     "end_time": "2024-11-11T05:54:57.990508",
     "exception": false,
     "start_time": "2024-11-11T05:54:57.843157",
     "status": "completed"
    },
    "tags": []
   },
   "outputs": [
    {
     "data": {
      "text/plain": [
       "'\\nimport os\\nimport keras\\nimport keras_nlp\\n\\ngemma_lm = keras_nlp.models.GemmaCausalLM.from_preset(\"gemma2_instruct_2b_en\")\\n# Use the same LoRA rank that you trained\\ngemma_lm.backbone.enable_lora(rank=4)\\n\\n# Load pre-trained LoRA weights\\ngemma_lm.backbone.load_lora_weights(f\"/kaggle/working/tamil_lora_4_epoch\"+train_epoch+\".lora.h5\")\\n'"
      ]
     },
     "execution_count": 6,
     "metadata": {},
     "output_type": "execute_result"
    }
   ],
   "source": [
    "# Example Code for Load LoRA\n",
    "'''\n",
    "import os\n",
    "import keras\n",
    "import keras_nlp\n",
    "\n",
    "gemma_lm = keras_nlp.models.GemmaCausalLM.from_preset(\"gemma2_instruct_2b_en\")\n",
    "# Use the same LoRA rank that you trained\n",
    "gemma_lm.backbone.enable_lora(rank=4)\n",
    "\n",
    "# Load pre-trained LoRA weights\n",
    "gemma_lm.backbone.load_lora_weights(f\"/kaggle/working/tamil_lora_4_epoch\"+train_epoch+\".lora.h5\")\n",
    "'''"
   ]
  },
  {
   "cell_type": "markdown",
   "id": "5cf831fe",
   "metadata": {
    "papermill": {
     "duration": 0.138131,
     "end_time": "2024-11-11T05:54:58.265831",
     "exception": false,
     "start_time": "2024-11-11T05:54:58.127700",
     "status": "completed"
    },
    "tags": []
   },
   "source": [
    "## Try a different sampler\n",
    "\n",
    "The top-K algorithm randomly picks the next token from the tokens of top K probability."
   ]
  },
  {
   "cell_type": "code",
   "execution_count": 7,
   "id": "aabb0d8b",
   "metadata": {
    "execution": {
     "iopub.execute_input": "2024-11-11T05:54:58.545032Z",
     "iopub.status.busy": "2024-11-11T05:54:58.544292Z",
     "iopub.status.idle": "2024-11-11T05:55:25.003368Z",
     "shell.execute_reply": "2024-11-11T05:55:25.002372Z"
    },
    "papermill": {
     "duration": 26.601492,
     "end_time": "2024-11-11T05:55:25.005592",
     "exception": false,
     "start_time": "2024-11-11T05:54:58.404100",
     "status": "completed"
    },
    "tags": []
   },
   "outputs": [
    {
     "name": "stdout",
     "output_type": "stream",
     "text": [
      "\n",
      "Gemma output:\n",
      "<start_of_turn>user\n",
      "தமிழில் ஒரு மின்னஞ்சல் பதிலை உருவாக்கவும்.<end_of_turn>\n",
      "<start_of_turn>model\n",
      "மின்னஞ்சல் பதிலை உருவாக்கப்பட்டதும், உங்கள் மின்னஞ்சலை ஏற்றி உங்கள் மின்னஞ்சலை ஏறுவிட்டு அனுப்பிவைக்கிறேன்.<end_of_turn>\n",
      "TOTAL TIME ELAPSED: 18.47s\n",
      "\n",
      "Gemma output:\n",
      "<start_of_turn>user\n",
      "தொடர்பான பிற செய்திகளை தமிழில் உருவாக்கவும்.<end_of_turn>\n",
      "<start_of_turn>model\n",
      "மூடி இருந்த பிற செய்திகள் தொடர்ந்து வந்தன, வானிலை மாற்றி மழை எடுக்க வைத்தவை. ஒவ் hoofமும் தண்ணீர் சிரித்தது, உட்பகுதிகளில் அலர்ஜிய ஏற்பட்டன. பலர் வீடுகளை வெளியேறி இயற்கையின் கடினத்தகுப்பையை கேட்டனர். தொடர்ந்து வானிலை மாற்றமும் மிகவும் பரிமாற்றமாக இருந்தது, வார்த்தைகளால் விவரிக்க முடியாத அளவிலான அ might மற்றும் சூழ்நிலைகளால் பல்வேறு விலங்குகள் மற்றும் தீவிர செயலங்களை உண்டாக்கியன.<end_of_turn>\n",
      "TOTAL TIME ELAPSED: 7.31s\n"
     ]
    }
   ],
   "source": [
    "gemma_lm.compile(sampler=\"top_k\")\n",
    "text_gen(\"தமிழில் ஒரு மின்னஞ்சல் பதிலை உருவாக்கவும்.\")\n",
    "text_gen(\"தொடர்பான பிற செய்திகளை தமிழில் உருவாக்கவும்.\")"
   ]
  },
  {
   "cell_type": "markdown",
   "id": "72067006",
   "metadata": {
    "papermill": {
     "duration": 0.13775,
     "end_time": "2024-11-11T05:55:25.280944",
     "exception": false,
     "start_time": "2024-11-11T05:55:25.143194",
     "status": "completed"
    },
    "tags": []
   },
   "source": [
    "Try a slight different prompts"
   ]
  },
  {
   "cell_type": "code",
   "execution_count": 8,
   "id": "b66de22b",
   "metadata": {
    "execution": {
     "iopub.execute_input": "2024-11-11T05:55:25.558069Z",
     "iopub.status.busy": "2024-11-11T05:55:25.557201Z",
     "iopub.status.idle": "2024-11-11T05:55:30.345697Z",
     "shell.execute_reply": "2024-11-11T05:55:30.344765Z"
    },
    "papermill": {
     "duration": 4.929158,
     "end_time": "2024-11-11T05:55:30.347823",
     "exception": false,
     "start_time": "2024-11-11T05:55:25.418665",
     "status": "completed"
    },
    "tags": []
   },
   "outputs": [
    {
     "name": "stdout",
     "output_type": "stream",
     "text": [
      "\n",
      "Gemma output:\n",
      "<start_of_turn>user\n",
      "புதிய செய்திக்கு பதில் தமிழ் மொழியில் கொடுக்கவும்.<end_of_turn>\n",
      "<start_of_turn>model\n",
      "அத энциклопедияக்களவில் இப்போது வெளியிடப்பட்ட செய்தி.<end_of_turn>\n",
      "TOTAL TIME ELAPSED: 1.08s\n",
      "\n",
      "Gemma output:\n",
      "<start_of_turn>user\n",
      "தொடர்பான தகவல்களை தமிழில் அளிக்கவும்.<end_of_turn>\n",
      "<start_of_turn>model\n",
      "அவரு cùng தொடர்பில் உள்ள எத்தனை தகவல்கள்있음.<end_of_turn>\n",
      "TOTAL TIME ELAPSED: 1.12s\n",
      "\n",
      "Gemma output:\n",
      "<start_of_turn>user\n",
      "அடுத்து வரும் தகவலுக்கு தமிழில் பதில் வழங்கவும்.<end_of_turn>\n",
      "<start_of_turn>model\n",
      "அடுத்து வரும் தகவலுக்கு பதில் \"அடுத்து வரும் தகவல்\" (of the next information) தமிழில் \"அடுத்து வரும் தகவல்கள்\" (of the next information) என்று மாற்றலாம்.<end_of_turn>\n",
      "TOTAL TIME ELAPSED: 2.58s\n"
     ]
    }
   ],
   "source": [
    "text_gen(\"புதிய செய்திக்கு பதில் தமிழ் மொழியில் கொடுக்கவும்.\")\n",
    "text_gen(\"தொடர்பான தகவல்களை தமிழில் அளிக்கவும்.\")\n",
    "text_gen(\"அடுத்து வரும் தகவலுக்கு தமிழில் பதில் வழங்கவும்.\")"
   ]
  }
 ],
 "metadata": {
  "kaggle": {
   "accelerator": "gpu",
   "dataSources": [
    {
     "databundleVersionId": 9690815,
     "sourceId": 85416,
     "sourceType": "competition"
    },
    {
     "modelId": 78150,
     "modelInstanceId": 72246,
     "sourceId": 85986,
     "sourceType": "modelInstanceVersion"
    }
   ],
   "dockerImageVersionId": 30776,
   "isGpuEnabled": true,
   "isInternetEnabled": true,
   "language": "python",
   "sourceType": "notebook"
  },
  "kernelspec": {
   "display_name": "Python 3",
   "language": "python",
   "name": "python3"
  },
  "language_info": {
   "codemirror_mode": {
    "name": "ipython",
    "version": 3
   },
   "file_extension": ".py",
   "mimetype": "text/x-python",
   "name": "python",
   "nbconvert_exporter": "python",
   "pygments_lexer": "ipython3",
   "version": "3.10.14"
  },
  "papermill": {
   "default_parameters": {},
   "duration": 1111.195551,
   "end_time": "2024-11-11T05:55:33.857220",
   "environment_variables": {},
   "exception": null,
   "input_path": "__notebook__.ipynb",
   "output_path": "__notebook__.ipynb",
   "parameters": {},
   "start_time": "2024-11-11T05:37:02.661669",
   "version": "2.6.0"
  },
  "widgets": {
   "application/vnd.jupyter.widget-state+json": {
    "state": {
     "03d6d4bbcc3943cf8a93fb57aab4d1bd": {
      "model_module": "@jupyter-widgets/controls",
      "model_module_version": "1.5.0",
      "model_name": "HTMLModel",
      "state": {
       "_dom_classes": [],
       "_model_module": "@jupyter-widgets/controls",
       "_model_module_version": "1.5.0",
       "_model_name": "HTMLModel",
       "_view_count": null,
       "_view_module": "@jupyter-widgets/controls",
       "_view_module_version": "1.5.0",
       "_view_name": "HTMLView",
       "description": "",
       "description_tooltip": null,
       "layout": "IPY_MODEL_d72c7c02b4d445789d32462a3cec8c86",
       "placeholder": "​",
       "style": "IPY_MODEL_0b07b40f5e264b5ebb8a147c050f5aa1",
       "value": " 84.7M/84.7M [00:00&lt;00:00, 203MB/s]"
      }
     },
     "0b07b40f5e264b5ebb8a147c050f5aa1": {
      "model_module": "@jupyter-widgets/controls",
      "model_module_version": "1.5.0",
      "model_name": "DescriptionStyleModel",
      "state": {
       "_model_module": "@jupyter-widgets/controls",
       "_model_module_version": "1.5.0",
       "_model_name": "DescriptionStyleModel",
       "_view_count": null,
       "_view_module": "@jupyter-widgets/base",
       "_view_module_version": "1.2.0",
       "_view_name": "StyleView",
       "description_width": ""
      }
     },
     "1231ba465fbf460fba174a64c82b5d3a": {
      "model_module": "@jupyter-widgets/base",
      "model_module_version": "1.2.0",
      "model_name": "LayoutModel",
      "state": {
       "_model_module": "@jupyter-widgets/base",
       "_model_module_version": "1.2.0",
       "_model_name": "LayoutModel",
       "_view_count": null,
       "_view_module": "@jupyter-widgets/base",
       "_view_module_version": "1.2.0",
       "_view_name": "LayoutView",
       "align_content": null,
       "align_items": null,
       "align_self": null,
       "border": null,
       "bottom": null,
       "display": null,
       "flex": null,
       "flex_flow": null,
       "grid_area": null,
       "grid_auto_columns": null,
       "grid_auto_flow": null,
       "grid_auto_rows": null,
       "grid_column": null,
       "grid_gap": null,
       "grid_row": null,
       "grid_template_areas": null,
       "grid_template_columns": null,
       "grid_template_rows": null,
       "height": null,
       "justify_content": null,
       "justify_items": null,
       "left": null,
       "margin": null,
       "max_height": null,
       "max_width": null,
       "min_height": null,
       "min_width": null,
       "object_fit": null,
       "object_position": null,
       "order": null,
       "overflow": null,
       "overflow_x": null,
       "overflow_y": null,
       "padding": null,
       "right": null,
       "top": null,
       "visibility": null,
       "width": null
      }
     },
     "15a3c6f23c064995bbd39592c4a36dca": {
      "model_module": "@jupyter-widgets/base",
      "model_module_version": "1.2.0",
      "model_name": "LayoutModel",
      "state": {
       "_model_module": "@jupyter-widgets/base",
       "_model_module_version": "1.2.0",
       "_model_name": "LayoutModel",
       "_view_count": null,
       "_view_module": "@jupyter-widgets/base",
       "_view_module_version": "1.2.0",
       "_view_name": "LayoutView",
       "align_content": null,
       "align_items": null,
       "align_self": null,
       "border": null,
       "bottom": null,
       "display": null,
       "flex": null,
       "flex_flow": null,
       "grid_area": null,
       "grid_auto_columns": null,
       "grid_auto_flow": null,
       "grid_auto_rows": null,
       "grid_column": null,
       "grid_gap": null,
       "grid_row": null,
       "grid_template_areas": null,
       "grid_template_columns": null,
       "grid_template_rows": null,
       "height": null,
       "justify_content": null,
       "justify_items": null,
       "left": null,
       "margin": null,
       "max_height": null,
       "max_width": null,
       "min_height": null,
       "min_width": null,
       "object_fit": null,
       "object_position": null,
       "order": null,
       "overflow": null,
       "overflow_x": null,
       "overflow_y": null,
       "padding": null,
       "right": null,
       "top": null,
       "visibility": null,
       "width": null
      }
     },
     "1a3689bcf13f42b4941a280753cf446f": {
      "model_module": "@jupyter-widgets/controls",
      "model_module_version": "1.5.0",
      "model_name": "HTMLModel",
      "state": {
       "_dom_classes": [],
       "_model_module": "@jupyter-widgets/controls",
       "_model_module_version": "1.5.0",
       "_model_name": "HTMLModel",
       "_view_count": null,
       "_view_module": "@jupyter-widgets/controls",
       "_view_module_version": "1.5.0",
       "_view_name": "HTMLView",
       "description": "",
       "description_tooltip": null,
       "layout": "IPY_MODEL_eed198af5d7945c0b6167a0566a7565b",
       "placeholder": "​",
       "style": "IPY_MODEL_e2f22569106c4f20b14f24dbe04b1234",
       "value": "Computing checksums: 100%"
      }
     },
     "1a68e104b7824bd9ba745ab91d61b791": {
      "model_module": "@jupyter-widgets/controls",
      "model_module_version": "1.5.0",
      "model_name": "HTMLModel",
      "state": {
       "_dom_classes": [],
       "_model_module": "@jupyter-widgets/controls",
       "_model_module_version": "1.5.0",
       "_model_name": "HTMLModel",
       "_view_count": null,
       "_view_module": "@jupyter-widgets/controls",
       "_view_module_version": "1.5.0",
       "_view_name": "HTMLView",
       "description": "",
       "description_tooltip": null,
       "layout": "IPY_MODEL_bb6aac73e2a347fc8fc5c38aafe82b8c",
       "placeholder": "​",
       "style": "IPY_MODEL_e05a8b14c97641d6afb326ab118eeb96",
       "value": "Generating train split: 100%"
      }
     },
     "27338772489442a5a89c6f99ccb7c9ad": {
      "model_module": "@jupyter-widgets/controls",
      "model_module_version": "1.5.0",
      "model_name": "HTMLModel",
      "state": {
       "_dom_classes": [],
       "_model_module": "@jupyter-widgets/controls",
       "_model_module_version": "1.5.0",
       "_model_name": "HTMLModel",
       "_view_count": null,
       "_view_module": "@jupyter-widgets/controls",
       "_view_module_version": "1.5.0",
       "_view_name": "HTMLView",
       "description": "",
       "description_tooltip": null,
       "layout": "IPY_MODEL_94a281fa56cc4a75a6c38d1d95a6f3aa",
       "placeholder": "​",
       "style": "IPY_MODEL_85fcfc49525745b4a9ceab0e50dce705",
       "value": "(…)-00000-of-00001-e96a6e4e7f400cce.parquet: 100%"
      }
     },
     "2c82e9874889438e8d54dc52a3abd0b9": {
      "model_module": "@jupyter-widgets/controls",
      "model_module_version": "1.5.0",
      "model_name": "ProgressStyleModel",
      "state": {
       "_model_module": "@jupyter-widgets/controls",
       "_model_module_version": "1.5.0",
       "_model_name": "ProgressStyleModel",
       "_view_count": null,
       "_view_module": "@jupyter-widgets/base",
       "_view_module_version": "1.2.0",
       "_view_name": "StyleView",
       "bar_color": null,
       "description_width": ""
      }
     },
     "2e844669ddd14fcebe7ea0c31ac6ea07": {
      "model_module": "@jupyter-widgets/base",
      "model_module_version": "1.2.0",
      "model_name": "LayoutModel",
      "state": {
       "_model_module": "@jupyter-widgets/base",
       "_model_module_version": "1.2.0",
       "_model_name": "LayoutModel",
       "_view_count": null,
       "_view_module": "@jupyter-widgets/base",
       "_view_module_version": "1.2.0",
       "_view_name": "LayoutView",
       "align_content": null,
       "align_items": null,
       "align_self": null,
       "border": null,
       "bottom": null,
       "display": null,
       "flex": null,
       "flex_flow": null,
       "grid_area": null,
       "grid_auto_columns": null,
       "grid_auto_flow": null,
       "grid_auto_rows": null,
       "grid_column": null,
       "grid_gap": null,
       "grid_row": null,
       "grid_template_areas": null,
       "grid_template_columns": null,
       "grid_template_rows": null,
       "height": null,
       "justify_content": null,
       "justify_items": null,
       "left": null,
       "margin": null,
       "max_height": null,
       "max_width": null,
       "min_height": null,
       "min_width": null,
       "object_fit": null,
       "object_position": null,
       "order": null,
       "overflow": null,
       "overflow_x": null,
       "overflow_y": null,
       "padding": null,
       "right": null,
       "top": null,
       "visibility": null,
       "width": null
      }
     },
     "331c2890333e42b6a22ac319568c040e": {
      "model_module": "@jupyter-widgets/controls",
      "model_module_version": "1.5.0",
      "model_name": "HTMLModel",
      "state": {
       "_dom_classes": [],
       "_model_module": "@jupyter-widgets/controls",
       "_model_module_version": "1.5.0",
       "_model_name": "HTMLModel",
       "_view_count": null,
       "_view_module": "@jupyter-widgets/controls",
       "_view_module_version": "1.5.0",
       "_view_name": "HTMLView",
       "description": "",
       "description_tooltip": null,
       "layout": "IPY_MODEL_50e2047c856e429cb08f9dd1fe1858f0",
       "placeholder": "​",
       "style": "IPY_MODEL_59929fc007024bb48804b6f7f24d2874",
       "value": " 51876/51876 [00:00&lt;00:00, 75928.14 examples/s]"
      }
     },
     "3925da5768934e49b0e50d631e794a2d": {
      "model_module": "@jupyter-widgets/base",
      "model_module_version": "1.2.0",
      "model_name": "LayoutModel",
      "state": {
       "_model_module": "@jupyter-widgets/base",
       "_model_module_version": "1.2.0",
       "_model_name": "LayoutModel",
       "_view_count": null,
       "_view_module": "@jupyter-widgets/base",
       "_view_module_version": "1.2.0",
       "_view_name": "LayoutView",
       "align_content": null,
       "align_items": null,
       "align_self": null,
       "border": null,
       "bottom": null,
       "display": null,
       "flex": null,
       "flex_flow": null,
       "grid_area": null,
       "grid_auto_columns": null,
       "grid_auto_flow": null,
       "grid_auto_rows": null,
       "grid_column": null,
       "grid_gap": null,
       "grid_row": null,
       "grid_template_areas": null,
       "grid_template_columns": null,
       "grid_template_rows": null,
       "height": null,
       "justify_content": null,
       "justify_items": null,
       "left": null,
       "margin": null,
       "max_height": null,
       "max_width": null,
       "min_height": null,
       "min_width": null,
       "object_fit": null,
       "object_position": null,
       "order": null,
       "overflow": null,
       "overflow_x": null,
       "overflow_y": null,
       "padding": null,
       "right": null,
       "top": null,
       "visibility": null,
       "width": null
      }
     },
     "4cfd71840ac748bf8f34b26d7e874bcb": {
      "model_module": "@jupyter-widgets/controls",
      "model_module_version": "1.5.0",
      "model_name": "FloatProgressModel",
      "state": {
       "_dom_classes": [],
       "_model_module": "@jupyter-widgets/controls",
       "_model_module_version": "1.5.0",
       "_model_name": "FloatProgressModel",
       "_view_count": null,
       "_view_module": "@jupyter-widgets/controls",
       "_view_module_version": "1.5.0",
       "_view_name": "ProgressView",
       "bar_style": "success",
       "description": "",
       "description_tooltip": null,
       "layout": "IPY_MODEL_f37fca4584c84feb97dbeb923abea4cb",
       "max": 1.0,
       "min": 0.0,
       "orientation": "horizontal",
       "style": "IPY_MODEL_a895dd31a33046bca49c0fb7849dc5df",
       "value": 1.0
      }
     },
     "50e2047c856e429cb08f9dd1fe1858f0": {
      "model_module": "@jupyter-widgets/base",
      "model_module_version": "1.2.0",
      "model_name": "LayoutModel",
      "state": {
       "_model_module": "@jupyter-widgets/base",
       "_model_module_version": "1.2.0",
       "_model_name": "LayoutModel",
       "_view_count": null,
       "_view_module": "@jupyter-widgets/base",
       "_view_module_version": "1.2.0",
       "_view_name": "LayoutView",
       "align_content": null,
       "align_items": null,
       "align_self": null,
       "border": null,
       "bottom": null,
       "display": null,
       "flex": null,
       "flex_flow": null,
       "grid_area": null,
       "grid_auto_columns": null,
       "grid_auto_flow": null,
       "grid_auto_rows": null,
       "grid_column": null,
       "grid_gap": null,
       "grid_row": null,
       "grid_template_areas": null,
       "grid_template_columns": null,
       "grid_template_rows": null,
       "height": null,
       "justify_content": null,
       "justify_items": null,
       "left": null,
       "margin": null,
       "max_height": null,
       "max_width": null,
       "min_height": null,
       "min_width": null,
       "object_fit": null,
       "object_position": null,
       "order": null,
       "overflow": null,
       "overflow_x": null,
       "overflow_y": null,
       "padding": null,
       "right": null,
       "top": null,
       "visibility": null,
       "width": null
      }
     },
     "536bd17a403c461aa02b2e2da79527f5": {
      "model_module": "@jupyter-widgets/base",
      "model_module_version": "1.2.0",
      "model_name": "LayoutModel",
      "state": {
       "_model_module": "@jupyter-widgets/base",
       "_model_module_version": "1.2.0",
       "_model_name": "LayoutModel",
       "_view_count": null,
       "_view_module": "@jupyter-widgets/base",
       "_view_module_version": "1.2.0",
       "_view_name": "LayoutView",
       "align_content": null,
       "align_items": null,
       "align_self": null,
       "border": null,
       "bottom": null,
       "display": null,
       "flex": null,
       "flex_flow": null,
       "grid_area": null,
       "grid_auto_columns": null,
       "grid_auto_flow": null,
       "grid_auto_rows": null,
       "grid_column": null,
       "grid_gap": null,
       "grid_row": null,
       "grid_template_areas": null,
       "grid_template_columns": null,
       "grid_template_rows": null,
       "height": null,
       "justify_content": null,
       "justify_items": null,
       "left": null,
       "margin": null,
       "max_height": null,
       "max_width": null,
       "min_height": null,
       "min_width": null,
       "object_fit": null,
       "object_position": null,
       "order": null,
       "overflow": null,
       "overflow_x": null,
       "overflow_y": null,
       "padding": null,
       "right": null,
       "top": null,
       "visibility": null,
       "width": null
      }
     },
     "53fd3316cc42483892febf9e7b6d2d9b": {
      "model_module": "@jupyter-widgets/controls",
      "model_module_version": "1.5.0",
      "model_name": "DescriptionStyleModel",
      "state": {
       "_model_module": "@jupyter-widgets/controls",
       "_model_module_version": "1.5.0",
       "_model_name": "DescriptionStyleModel",
       "_view_count": null,
       "_view_module": "@jupyter-widgets/base",
       "_view_module_version": "1.2.0",
       "_view_name": "StyleView",
       "description_width": ""
      }
     },
     "56376fa0d64745bb800fb2202488156e": {
      "model_module": "@jupyter-widgets/controls",
      "model_module_version": "1.5.0",
      "model_name": "DescriptionStyleModel",
      "state": {
       "_model_module": "@jupyter-widgets/controls",
       "_model_module_version": "1.5.0",
       "_model_name": "DescriptionStyleModel",
       "_view_count": null,
       "_view_module": "@jupyter-widgets/base",
       "_view_module_version": "1.2.0",
       "_view_name": "StyleView",
       "description_width": ""
      }
     },
     "59929fc007024bb48804b6f7f24d2874": {
      "model_module": "@jupyter-widgets/controls",
      "model_module_version": "1.5.0",
      "model_name": "DescriptionStyleModel",
      "state": {
       "_model_module": "@jupyter-widgets/controls",
       "_model_module_version": "1.5.0",
       "_model_name": "DescriptionStyleModel",
       "_view_count": null,
       "_view_module": "@jupyter-widgets/base",
       "_view_module_version": "1.2.0",
       "_view_name": "StyleView",
       "description_width": ""
      }
     },
     "65236b61ff5c4e65a6589dbf578f385a": {
      "model_module": "@jupyter-widgets/controls",
      "model_module_version": "1.5.0",
      "model_name": "DescriptionStyleModel",
      "state": {
       "_model_module": "@jupyter-widgets/controls",
       "_model_module_version": "1.5.0",
       "_model_name": "DescriptionStyleModel",
       "_view_count": null,
       "_view_module": "@jupyter-widgets/base",
       "_view_module_version": "1.2.0",
       "_view_name": "StyleView",
       "description_width": ""
      }
     },
     "65cb442515ed43849b4806b0638e42ac": {
      "model_module": "@jupyter-widgets/controls",
      "model_module_version": "1.5.0",
      "model_name": "FloatProgressModel",
      "state": {
       "_dom_classes": [],
       "_model_module": "@jupyter-widgets/controls",
       "_model_module_version": "1.5.0",
       "_model_name": "FloatProgressModel",
       "_view_count": null,
       "_view_module": "@jupyter-widgets/controls",
       "_view_module_version": "1.5.0",
       "_view_name": "ProgressView",
       "bar_style": "success",
       "description": "",
       "description_tooltip": null,
       "layout": "IPY_MODEL_d477aee8de244e41b37a38533d769337",
       "max": 84685618.0,
       "min": 0.0,
       "orientation": "horizontal",
       "style": "IPY_MODEL_a2d8b4dc0d414562b8d07fab37f4bc37",
       "value": 84685618.0
      }
     },
     "73f1b15698694bf6b70f002c7dd43c4f": {
      "model_module": "@jupyter-widgets/controls",
      "model_module_version": "1.5.0",
      "model_name": "HTMLModel",
      "state": {
       "_dom_classes": [],
       "_model_module": "@jupyter-widgets/controls",
       "_model_module_version": "1.5.0",
       "_model_name": "HTMLModel",
       "_view_count": null,
       "_view_module": "@jupyter-widgets/controls",
       "_view_module_version": "1.5.0",
       "_view_name": "HTMLView",
       "description": "",
       "description_tooltip": null,
       "layout": "IPY_MODEL_dddf29c8867f4cb5abcb99cca980a1ee",
       "placeholder": "​",
       "style": "IPY_MODEL_53fd3316cc42483892febf9e7b6d2d9b",
       "value": " 1/1 [00:00&lt;00:00, 106.22it/s]"
      }
     },
     "7542f613bbbc40f49e02a38c15fc30b3": {
      "model_module": "@jupyter-widgets/controls",
      "model_module_version": "1.5.0",
      "model_name": "HBoxModel",
      "state": {
       "_dom_classes": [],
       "_model_module": "@jupyter-widgets/controls",
       "_model_module_version": "1.5.0",
       "_model_name": "HBoxModel",
       "_view_count": null,
       "_view_module": "@jupyter-widgets/controls",
       "_view_module_version": "1.5.0",
       "_view_name": "HBoxView",
       "box_style": "",
       "children": [
        "IPY_MODEL_fa029674635f404db925b665b9bf2650",
        "IPY_MODEL_d83bcddb256748d38e04b7e65127fb4c",
        "IPY_MODEL_9fb054ac4a114c32a38524b733cbc15f"
       ],
       "layout": "IPY_MODEL_536bd17a403c461aa02b2e2da79527f5"
      }
     },
     "85fcfc49525745b4a9ceab0e50dce705": {
      "model_module": "@jupyter-widgets/controls",
      "model_module_version": "1.5.0",
      "model_name": "DescriptionStyleModel",
      "state": {
       "_model_module": "@jupyter-widgets/controls",
       "_model_module_version": "1.5.0",
       "_model_name": "DescriptionStyleModel",
       "_view_count": null,
       "_view_module": "@jupyter-widgets/base",
       "_view_module_version": "1.2.0",
       "_view_name": "StyleView",
       "description_width": ""
      }
     },
     "94a281fa56cc4a75a6c38d1d95a6f3aa": {
      "model_module": "@jupyter-widgets/base",
      "model_module_version": "1.2.0",
      "model_name": "LayoutModel",
      "state": {
       "_model_module": "@jupyter-widgets/base",
       "_model_module_version": "1.2.0",
       "_model_name": "LayoutModel",
       "_view_count": null,
       "_view_module": "@jupyter-widgets/base",
       "_view_module_version": "1.2.0",
       "_view_name": "LayoutView",
       "align_content": null,
       "align_items": null,
       "align_self": null,
       "border": null,
       "bottom": null,
       "display": null,
       "flex": null,
       "flex_flow": null,
       "grid_area": null,
       "grid_auto_columns": null,
       "grid_auto_flow": null,
       "grid_auto_rows": null,
       "grid_column": null,
       "grid_gap": null,
       "grid_row": null,
       "grid_template_areas": null,
       "grid_template_columns": null,
       "grid_template_rows": null,
       "height": null,
       "justify_content": null,
       "justify_items": null,
       "left": null,
       "margin": null,
       "max_height": null,
       "max_width": null,
       "min_height": null,
       "min_width": null,
       "object_fit": null,
       "object_position": null,
       "order": null,
       "overflow": null,
       "overflow_x": null,
       "overflow_y": null,
       "padding": null,
       "right": null,
       "top": null,
       "visibility": null,
       "width": null
      }
     },
     "9fb054ac4a114c32a38524b733cbc15f": {
      "model_module": "@jupyter-widgets/controls",
      "model_module_version": "1.5.0",
      "model_name": "HTMLModel",
      "state": {
       "_dom_classes": [],
       "_model_module": "@jupyter-widgets/controls",
       "_model_module_version": "1.5.0",
       "_model_name": "HTMLModel",
       "_view_count": null,
       "_view_module": "@jupyter-widgets/controls",
       "_view_module_version": "1.5.0",
       "_view_name": "HTMLView",
       "description": "",
       "description_tooltip": null,
       "layout": "IPY_MODEL_2e844669ddd14fcebe7ea0c31ac6ea07",
       "placeholder": "​",
       "style": "IPY_MODEL_56376fa0d64745bb800fb2202488156e",
       "value": " 2.52k/2.52k [00:00&lt;00:00, 159kB/s]"
      }
     },
     "a2d8b4dc0d414562b8d07fab37f4bc37": {
      "model_module": "@jupyter-widgets/controls",
      "model_module_version": "1.5.0",
      "model_name": "ProgressStyleModel",
      "state": {
       "_model_module": "@jupyter-widgets/controls",
       "_model_module_version": "1.5.0",
       "_model_name": "ProgressStyleModel",
       "_view_count": null,
       "_view_module": "@jupyter-widgets/base",
       "_view_module_version": "1.2.0",
       "_view_name": "StyleView",
       "bar_color": null,
       "description_width": ""
      }
     },
     "a895dd31a33046bca49c0fb7849dc5df": {
      "model_module": "@jupyter-widgets/controls",
      "model_module_version": "1.5.0",
      "model_name": "ProgressStyleModel",
      "state": {
       "_model_module": "@jupyter-widgets/controls",
       "_model_module_version": "1.5.0",
       "_model_name": "ProgressStyleModel",
       "_view_count": null,
       "_view_module": "@jupyter-widgets/base",
       "_view_module_version": "1.2.0",
       "_view_name": "StyleView",
       "bar_color": null,
       "description_width": ""
      }
     },
     "b4516502c10c449ab1da3fe619e718b4": {
      "model_module": "@jupyter-widgets/controls",
      "model_module_version": "1.5.0",
      "model_name": "HBoxModel",
      "state": {
       "_dom_classes": [],
       "_model_module": "@jupyter-widgets/controls",
       "_model_module_version": "1.5.0",
       "_model_name": "HBoxModel",
       "_view_count": null,
       "_view_module": "@jupyter-widgets/controls",
       "_view_module_version": "1.5.0",
       "_view_name": "HBoxView",
       "box_style": "",
       "children": [
        "IPY_MODEL_1a3689bcf13f42b4941a280753cf446f",
        "IPY_MODEL_4cfd71840ac748bf8f34b26d7e874bcb",
        "IPY_MODEL_73f1b15698694bf6b70f002c7dd43c4f"
       ],
       "layout": "IPY_MODEL_db449ff212e54596885c4f6425dcf84c"
      }
     },
     "b64bd93b36a442449c0366c9e7d50589": {
      "model_module": "@jupyter-widgets/base",
      "model_module_version": "1.2.0",
      "model_name": "LayoutModel",
      "state": {
       "_model_module": "@jupyter-widgets/base",
       "_model_module_version": "1.2.0",
       "_model_name": "LayoutModel",
       "_view_count": null,
       "_view_module": "@jupyter-widgets/base",
       "_view_module_version": "1.2.0",
       "_view_name": "LayoutView",
       "align_content": null,
       "align_items": null,
       "align_self": null,
       "border": null,
       "bottom": null,
       "display": null,
       "flex": null,
       "flex_flow": null,
       "grid_area": null,
       "grid_auto_columns": null,
       "grid_auto_flow": null,
       "grid_auto_rows": null,
       "grid_column": null,
       "grid_gap": null,
       "grid_row": null,
       "grid_template_areas": null,
       "grid_template_columns": null,
       "grid_template_rows": null,
       "height": null,
       "justify_content": null,
       "justify_items": null,
       "left": null,
       "margin": null,
       "max_height": null,
       "max_width": null,
       "min_height": null,
       "min_width": null,
       "object_fit": null,
       "object_position": null,
       "order": null,
       "overflow": null,
       "overflow_x": null,
       "overflow_y": null,
       "padding": null,
       "right": null,
       "top": null,
       "visibility": null,
       "width": null
      }
     },
     "ba774a03f35640ba93da52f58f41b7c7": {
      "model_module": "@jupyter-widgets/controls",
      "model_module_version": "1.5.0",
      "model_name": "ProgressStyleModel",
      "state": {
       "_model_module": "@jupyter-widgets/controls",
       "_model_module_version": "1.5.0",
       "_model_name": "ProgressStyleModel",
       "_view_count": null,
       "_view_module": "@jupyter-widgets/base",
       "_view_module_version": "1.2.0",
       "_view_name": "StyleView",
       "bar_color": null,
       "description_width": ""
      }
     },
     "bb6aac73e2a347fc8fc5c38aafe82b8c": {
      "model_module": "@jupyter-widgets/base",
      "model_module_version": "1.2.0",
      "model_name": "LayoutModel",
      "state": {
       "_model_module": "@jupyter-widgets/base",
       "_model_module_version": "1.2.0",
       "_model_name": "LayoutModel",
       "_view_count": null,
       "_view_module": "@jupyter-widgets/base",
       "_view_module_version": "1.2.0",
       "_view_name": "LayoutView",
       "align_content": null,
       "align_items": null,
       "align_self": null,
       "border": null,
       "bottom": null,
       "display": null,
       "flex": null,
       "flex_flow": null,
       "grid_area": null,
       "grid_auto_columns": null,
       "grid_auto_flow": null,
       "grid_auto_rows": null,
       "grid_column": null,
       "grid_gap": null,
       "grid_row": null,
       "grid_template_areas": null,
       "grid_template_columns": null,
       "grid_template_rows": null,
       "height": null,
       "justify_content": null,
       "justify_items": null,
       "left": null,
       "margin": null,
       "max_height": null,
       "max_width": null,
       "min_height": null,
       "min_width": null,
       "object_fit": null,
       "object_position": null,
       "order": null,
       "overflow": null,
       "overflow_x": null,
       "overflow_y": null,
       "padding": null,
       "right": null,
       "top": null,
       "visibility": null,
       "width": null
      }
     },
     "d0b53eeeed76434eb872f339d2433012": {
      "model_module": "@jupyter-widgets/controls",
      "model_module_version": "1.5.0",
      "model_name": "HBoxModel",
      "state": {
       "_dom_classes": [],
       "_model_module": "@jupyter-widgets/controls",
       "_model_module_version": "1.5.0",
       "_model_name": "HBoxModel",
       "_view_count": null,
       "_view_module": "@jupyter-widgets/controls",
       "_view_module_version": "1.5.0",
       "_view_name": "HBoxView",
       "box_style": "",
       "children": [
        "IPY_MODEL_27338772489442a5a89c6f99ccb7c9ad",
        "IPY_MODEL_65cb442515ed43849b4806b0638e42ac",
        "IPY_MODEL_03d6d4bbcc3943cf8a93fb57aab4d1bd"
       ],
       "layout": "IPY_MODEL_15a3c6f23c064995bbd39592c4a36dca"
      }
     },
     "d477aee8de244e41b37a38533d769337": {
      "model_module": "@jupyter-widgets/base",
      "model_module_version": "1.2.0",
      "model_name": "LayoutModel",
      "state": {
       "_model_module": "@jupyter-widgets/base",
       "_model_module_version": "1.2.0",
       "_model_name": "LayoutModel",
       "_view_count": null,
       "_view_module": "@jupyter-widgets/base",
       "_view_module_version": "1.2.0",
       "_view_name": "LayoutView",
       "align_content": null,
       "align_items": null,
       "align_self": null,
       "border": null,
       "bottom": null,
       "display": null,
       "flex": null,
       "flex_flow": null,
       "grid_area": null,
       "grid_auto_columns": null,
       "grid_auto_flow": null,
       "grid_auto_rows": null,
       "grid_column": null,
       "grid_gap": null,
       "grid_row": null,
       "grid_template_areas": null,
       "grid_template_columns": null,
       "grid_template_rows": null,
       "height": null,
       "justify_content": null,
       "justify_items": null,
       "left": null,
       "margin": null,
       "max_height": null,
       "max_width": null,
       "min_height": null,
       "min_width": null,
       "object_fit": null,
       "object_position": null,
       "order": null,
       "overflow": null,
       "overflow_x": null,
       "overflow_y": null,
       "padding": null,
       "right": null,
       "top": null,
       "visibility": null,
       "width": null
      }
     },
     "d595d3bf451f4278a438b6bf35b71f0f": {
      "model_module": "@jupyter-widgets/base",
      "model_module_version": "1.2.0",
      "model_name": "LayoutModel",
      "state": {
       "_model_module": "@jupyter-widgets/base",
       "_model_module_version": "1.2.0",
       "_model_name": "LayoutModel",
       "_view_count": null,
       "_view_module": "@jupyter-widgets/base",
       "_view_module_version": "1.2.0",
       "_view_name": "LayoutView",
       "align_content": null,
       "align_items": null,
       "align_self": null,
       "border": null,
       "bottom": null,
       "display": null,
       "flex": null,
       "flex_flow": null,
       "grid_area": null,
       "grid_auto_columns": null,
       "grid_auto_flow": null,
       "grid_auto_rows": null,
       "grid_column": null,
       "grid_gap": null,
       "grid_row": null,
       "grid_template_areas": null,
       "grid_template_columns": null,
       "grid_template_rows": null,
       "height": null,
       "justify_content": null,
       "justify_items": null,
       "left": null,
       "margin": null,
       "max_height": null,
       "max_width": null,
       "min_height": null,
       "min_width": null,
       "object_fit": null,
       "object_position": null,
       "order": null,
       "overflow": null,
       "overflow_x": null,
       "overflow_y": null,
       "padding": null,
       "right": null,
       "top": null,
       "visibility": null,
       "width": null
      }
     },
     "d72c7c02b4d445789d32462a3cec8c86": {
      "model_module": "@jupyter-widgets/base",
      "model_module_version": "1.2.0",
      "model_name": "LayoutModel",
      "state": {
       "_model_module": "@jupyter-widgets/base",
       "_model_module_version": "1.2.0",
       "_model_name": "LayoutModel",
       "_view_count": null,
       "_view_module": "@jupyter-widgets/base",
       "_view_module_version": "1.2.0",
       "_view_name": "LayoutView",
       "align_content": null,
       "align_items": null,
       "align_self": null,
       "border": null,
       "bottom": null,
       "display": null,
       "flex": null,
       "flex_flow": null,
       "grid_area": null,
       "grid_auto_columns": null,
       "grid_auto_flow": null,
       "grid_auto_rows": null,
       "grid_column": null,
       "grid_gap": null,
       "grid_row": null,
       "grid_template_areas": null,
       "grid_template_columns": null,
       "grid_template_rows": null,
       "height": null,
       "justify_content": null,
       "justify_items": null,
       "left": null,
       "margin": null,
       "max_height": null,
       "max_width": null,
       "min_height": null,
       "min_width": null,
       "object_fit": null,
       "object_position": null,
       "order": null,
       "overflow": null,
       "overflow_x": null,
       "overflow_y": null,
       "padding": null,
       "right": null,
       "top": null,
       "visibility": null,
       "width": null
      }
     },
     "d83bcddb256748d38e04b7e65127fb4c": {
      "model_module": "@jupyter-widgets/controls",
      "model_module_version": "1.5.0",
      "model_name": "FloatProgressModel",
      "state": {
       "_dom_classes": [],
       "_model_module": "@jupyter-widgets/controls",
       "_model_module_version": "1.5.0",
       "_model_name": "FloatProgressModel",
       "_view_count": null,
       "_view_module": "@jupyter-widgets/controls",
       "_view_module_version": "1.5.0",
       "_view_name": "ProgressView",
       "bar_style": "success",
       "description": "",
       "description_tooltip": null,
       "layout": "IPY_MODEL_3925da5768934e49b0e50d631e794a2d",
       "max": 2524.0,
       "min": 0.0,
       "orientation": "horizontal",
       "style": "IPY_MODEL_ba774a03f35640ba93da52f58f41b7c7",
       "value": 2524.0
      }
     },
     "db449ff212e54596885c4f6425dcf84c": {
      "model_module": "@jupyter-widgets/base",
      "model_module_version": "1.2.0",
      "model_name": "LayoutModel",
      "state": {
       "_model_module": "@jupyter-widgets/base",
       "_model_module_version": "1.2.0",
       "_model_name": "LayoutModel",
       "_view_count": null,
       "_view_module": "@jupyter-widgets/base",
       "_view_module_version": "1.2.0",
       "_view_name": "LayoutView",
       "align_content": null,
       "align_items": null,
       "align_self": null,
       "border": null,
       "bottom": null,
       "display": null,
       "flex": null,
       "flex_flow": null,
       "grid_area": null,
       "grid_auto_columns": null,
       "grid_auto_flow": null,
       "grid_auto_rows": null,
       "grid_column": null,
       "grid_gap": null,
       "grid_row": null,
       "grid_template_areas": null,
       "grid_template_columns": null,
       "grid_template_rows": null,
       "height": null,
       "justify_content": null,
       "justify_items": null,
       "left": null,
       "margin": null,
       "max_height": null,
       "max_width": null,
       "min_height": null,
       "min_width": null,
       "object_fit": null,
       "object_position": null,
       "order": null,
       "overflow": null,
       "overflow_x": null,
       "overflow_y": null,
       "padding": null,
       "right": null,
       "top": null,
       "visibility": null,
       "width": null
      }
     },
     "dddf29c8867f4cb5abcb99cca980a1ee": {
      "model_module": "@jupyter-widgets/base",
      "model_module_version": "1.2.0",
      "model_name": "LayoutModel",
      "state": {
       "_model_module": "@jupyter-widgets/base",
       "_model_module_version": "1.2.0",
       "_model_name": "LayoutModel",
       "_view_count": null,
       "_view_module": "@jupyter-widgets/base",
       "_view_module_version": "1.2.0",
       "_view_name": "LayoutView",
       "align_content": null,
       "align_items": null,
       "align_self": null,
       "border": null,
       "bottom": null,
       "display": null,
       "flex": null,
       "flex_flow": null,
       "grid_area": null,
       "grid_auto_columns": null,
       "grid_auto_flow": null,
       "grid_auto_rows": null,
       "grid_column": null,
       "grid_gap": null,
       "grid_row": null,
       "grid_template_areas": null,
       "grid_template_columns": null,
       "grid_template_rows": null,
       "height": null,
       "justify_content": null,
       "justify_items": null,
       "left": null,
       "margin": null,
       "max_height": null,
       "max_width": null,
       "min_height": null,
       "min_width": null,
       "object_fit": null,
       "object_position": null,
       "order": null,
       "overflow": null,
       "overflow_x": null,
       "overflow_y": null,
       "padding": null,
       "right": null,
       "top": null,
       "visibility": null,
       "width": null
      }
     },
     "e05a8b14c97641d6afb326ab118eeb96": {
      "model_module": "@jupyter-widgets/controls",
      "model_module_version": "1.5.0",
      "model_name": "DescriptionStyleModel",
      "state": {
       "_model_module": "@jupyter-widgets/controls",
       "_model_module_version": "1.5.0",
       "_model_name": "DescriptionStyleModel",
       "_view_count": null,
       "_view_module": "@jupyter-widgets/base",
       "_view_module_version": "1.2.0",
       "_view_name": "StyleView",
       "description_width": ""
      }
     },
     "e2f22569106c4f20b14f24dbe04b1234": {
      "model_module": "@jupyter-widgets/controls",
      "model_module_version": "1.5.0",
      "model_name": "DescriptionStyleModel",
      "state": {
       "_model_module": "@jupyter-widgets/controls",
       "_model_module_version": "1.5.0",
       "_model_name": "DescriptionStyleModel",
       "_view_count": null,
       "_view_module": "@jupyter-widgets/base",
       "_view_module_version": "1.2.0",
       "_view_name": "StyleView",
       "description_width": ""
      }
     },
     "e8fe884d8f24493a89abc3222283c9f0": {
      "model_module": "@jupyter-widgets/controls",
      "model_module_version": "1.5.0",
      "model_name": "HBoxModel",
      "state": {
       "_dom_classes": [],
       "_model_module": "@jupyter-widgets/controls",
       "_model_module_version": "1.5.0",
       "_model_name": "HBoxModel",
       "_view_count": null,
       "_view_module": "@jupyter-widgets/controls",
       "_view_module_version": "1.5.0",
       "_view_name": "HBoxView",
       "box_style": "",
       "children": [
        "IPY_MODEL_1a68e104b7824bd9ba745ab91d61b791",
        "IPY_MODEL_f259d87a802642f7a5ae077210bbf27f",
        "IPY_MODEL_331c2890333e42b6a22ac319568c040e"
       ],
       "layout": "IPY_MODEL_1231ba465fbf460fba174a64c82b5d3a"
      }
     },
     "eed198af5d7945c0b6167a0566a7565b": {
      "model_module": "@jupyter-widgets/base",
      "model_module_version": "1.2.0",
      "model_name": "LayoutModel",
      "state": {
       "_model_module": "@jupyter-widgets/base",
       "_model_module_version": "1.2.0",
       "_model_name": "LayoutModel",
       "_view_count": null,
       "_view_module": "@jupyter-widgets/base",
       "_view_module_version": "1.2.0",
       "_view_name": "LayoutView",
       "align_content": null,
       "align_items": null,
       "align_self": null,
       "border": null,
       "bottom": null,
       "display": null,
       "flex": null,
       "flex_flow": null,
       "grid_area": null,
       "grid_auto_columns": null,
       "grid_auto_flow": null,
       "grid_auto_rows": null,
       "grid_column": null,
       "grid_gap": null,
       "grid_row": null,
       "grid_template_areas": null,
       "grid_template_columns": null,
       "grid_template_rows": null,
       "height": null,
       "justify_content": null,
       "justify_items": null,
       "left": null,
       "margin": null,
       "max_height": null,
       "max_width": null,
       "min_height": null,
       "min_width": null,
       "object_fit": null,
       "object_position": null,
       "order": null,
       "overflow": null,
       "overflow_x": null,
       "overflow_y": null,
       "padding": null,
       "right": null,
       "top": null,
       "visibility": null,
       "width": null
      }
     },
     "f259d87a802642f7a5ae077210bbf27f": {
      "model_module": "@jupyter-widgets/controls",
      "model_module_version": "1.5.0",
      "model_name": "FloatProgressModel",
      "state": {
       "_dom_classes": [],
       "_model_module": "@jupyter-widgets/controls",
       "_model_module_version": "1.5.0",
       "_model_name": "FloatProgressModel",
       "_view_count": null,
       "_view_module": "@jupyter-widgets/controls",
       "_view_module_version": "1.5.0",
       "_view_name": "ProgressView",
       "bar_style": "success",
       "description": "",
       "description_tooltip": null,
       "layout": "IPY_MODEL_d595d3bf451f4278a438b6bf35b71f0f",
       "max": 51876.0,
       "min": 0.0,
       "orientation": "horizontal",
       "style": "IPY_MODEL_2c82e9874889438e8d54dc52a3abd0b9",
       "value": 51876.0
      }
     },
     "f37fca4584c84feb97dbeb923abea4cb": {
      "model_module": "@jupyter-widgets/base",
      "model_module_version": "1.2.0",
      "model_name": "LayoutModel",
      "state": {
       "_model_module": "@jupyter-widgets/base",
       "_model_module_version": "1.2.0",
       "_model_name": "LayoutModel",
       "_view_count": null,
       "_view_module": "@jupyter-widgets/base",
       "_view_module_version": "1.2.0",
       "_view_name": "LayoutView",
       "align_content": null,
       "align_items": null,
       "align_self": null,
       "border": null,
       "bottom": null,
       "display": null,
       "flex": null,
       "flex_flow": null,
       "grid_area": null,
       "grid_auto_columns": null,
       "grid_auto_flow": null,
       "grid_auto_rows": null,
       "grid_column": null,
       "grid_gap": null,
       "grid_row": null,
       "grid_template_areas": null,
       "grid_template_columns": null,
       "grid_template_rows": null,
       "height": null,
       "justify_content": null,
       "justify_items": null,
       "left": null,
       "margin": null,
       "max_height": null,
       "max_width": null,
       "min_height": null,
       "min_width": null,
       "object_fit": null,
       "object_position": null,
       "order": null,
       "overflow": null,
       "overflow_x": null,
       "overflow_y": null,
       "padding": null,
       "right": null,
       "top": null,
       "visibility": null,
       "width": null
      }
     },
     "fa029674635f404db925b665b9bf2650": {
      "model_module": "@jupyter-widgets/controls",
      "model_module_version": "1.5.0",
      "model_name": "HTMLModel",
      "state": {
       "_dom_classes": [],
       "_model_module": "@jupyter-widgets/controls",
       "_model_module_version": "1.5.0",
       "_model_name": "HTMLModel",
       "_view_count": null,
       "_view_module": "@jupyter-widgets/controls",
       "_view_module_version": "1.5.0",
       "_view_name": "HTMLView",
       "description": "",
       "description_tooltip": null,
       "layout": "IPY_MODEL_b64bd93b36a442449c0366c9e7d50589",
       "placeholder": "​",
       "style": "IPY_MODEL_65236b61ff5c4e65a6589dbf578f385a",
       "value": "README.md: 100%"
      }
     }
    },
    "version_major": 2,
    "version_minor": 0
   }
  }
 },
 "nbformat": 4,
 "nbformat_minor": 5
}
